{
 "cells": [
  {
   "cell_type": "code",
   "execution_count": 1,
   "id": "ca487b5e",
   "metadata": {},
   "outputs": [],
   "source": [
    "import os\n",
    "import sys\n",
    "import glob2 as glob\n",
    "import xarray as xr\n",
    "import matplotlib.pyplot as plt\n",
    "import cartopy.crs as ccrs\n",
    "from matplotlib.backends.backend_pdf import PdfPages as pdf"
   ]
  },
  {
   "cell_type": "code",
   "execution_count": 2,
   "id": "9c45e4b3",
   "metadata": {},
   "outputs": [],
   "source": [
    "# specify which version to plot\n",
    "\n",
    "# plot_vers = 'first'\n",
    "\n",
    "plot_vers = 'last'\n",
    "\n",
    "# specify source files from two model runs\n",
    "\n",
    "# dir_1 = '/Users/afridlin/data/CMIP6/CMIP/NASA-GISS/GISS-E2-G/amip/r1i1p1f1/'\n",
    "dir_1 = '/Users/afridlin/data/CMIP6/CMIP/NASA-GISS/GISS-E3-G-2014/historical/r1i1p1f1/'\n",
    "# dir_1 = '/Users/afridlin/data/CMIP6/CMIP/NASA-GISS/GISS-E3-G-Omon/historical/r1i1p1f1/'\n",
    "tim_1 = '2014-09' # specify what month to plot\n",
    "mod_1 = dir_1.split('/')[-4]\n",
    "run_1 = dir_1.split('/')[-3]\n",
    "dir_1_var = glob.glob(dir_1+'/*/*/*', recursive=True) # all reported variables\n",
    "if dir_1_var == []:\n",
    "    print('INPUT ERROR: Directory specification error (no variables found).')\n",
    "    print(dir_1)\n",
    "    sys.exit()\n",
    "if mod_1[0:7] == 'GISS-E2': # skip *fx and *fy variables\n",
    "    dir_1_var = [i for i in dir_1_var if 'fx' not in i]\n",
    "    dir_1_var = [i for i in dir_1_var if 'fy' not in i]\n",
    "    print('WARNING: Skipping fx class from E2 owing to dimensionality error.')\n",
    "ncs_1 = []\n",
    "for i_1, d_1 in enumerate(dir_1_var):\n",
    "    v_all = sorted(glob.glob(dir_1_var[i_1]+'/*', recursive=True)) # all versions\n",
    "    if v_all != []:\n",
    "        if plot_vers == 'first':\n",
    "            f_all = sorted(glob.glob(v_all[0]+'/*.nc')) # all files in first version\n",
    "        elif plot_vers == 'last':\n",
    "            f_all = sorted(glob.glob(v_all[-1]+'/*.nc')) # or all files in last version\n",
    "        f_tim = [i for i in f_all if '2014' in i]\n",
    "        if f_tim == []:\n",
    "            f_tim = [i for i in f_all if tim_1.replace('-','') in i]\n",
    "        ncs_1.append(f_tim[0])\n",
    "\n",
    "# dir_2 = '/Users/afridlin/data/CMIP6/CMIP/NASA-GISS/GISS-E3-G-2014/historical/r1i1p1f1/'\n",
    "# dir_2 = '/Users/afridlin/data/CMIP6/CMIP/NASA-GISS/GISS-E2-G/amip/r1i1p1f1/'\n",
    "dir_2 = '/Users/afridlin/data/CMIP6/CMIP/NASA-GISS/GISS-E3-G-2014/historical/r1i1p1f1/'\n",
    "tim_2 = '2014-09' # specify what month to plot\n",
    "mod_2 = dir_2.split('/')[-4]\n",
    "run_2 = dir_2.split('/')[-3]\n",
    "dir_2_var = glob.glob(dir_2+'/*/*/*', recursive=True)\n",
    "if dir_2_var == []:\n",
    "    print('INPUT ERROR: Directory specification error (no variables found).')\n",
    "    print(dir_2)\n",
    "    sys.exit()\n",
    "if mod_2[0:7] == 'GISS-E2': # skip *fx and *fy variables\n",
    "    dir_2_var = [i for i in dir_2_var if 'fx' not in i]\n",
    "    dir_2_var = [i for i in dir_2_var if 'fy' not in i]\n",
    "    print('WARNING: Skipping fx class from E2 owing to dimensionality error.')\n",
    "ncs_2 = []\n",
    "for i_2, d_2 in enumerate(dir_2_var):\n",
    "    v_all = sorted(glob.glob(dir_2_var[i_2]+'/*', recursive=True))\n",
    "    if v_all != []:\n",
    "        if plot_vers == 'first':\n",
    "            f_all = sorted(glob.glob(v_all[0]+'/*.nc')) # all files in first version\n",
    "        elif plot_vers == 'last':\n",
    "            f_all = sorted(glob.glob(v_all[-1]+'/*.nc')) # or all files in last version\n",
    "        f_tim = [i for i in f_all if '2014' in i]\n",
    "        if f_tim == []:\n",
    "            f_tim = [i for i in f_all if tim_1.replace('-','') in i]        \n",
    "        ncs_2.append(f_tim[0])\n",
    "\n",
    "# specify local destination for comparison plots\n",
    "\n",
    "out_dir = './'\n",
    "out_pdf = out_dir+mod_1+'_'+run_1+'_vs_'+mod_2+'_'+run_2+'.pdf'"
   ]
  },
  {
   "cell_type": "code",
   "execution_count": null,
   "id": "a87450dd",
   "metadata": {
    "scrolled": false
   },
   "outputs": [
    {
     "name": "stdout",
     "output_type": "stream",
     "text": [
      "/Users/afridlin/data/CMIP6/CMIP/NASA-GISS/GISS-E3-G-2014/historical/r1i1p1f1/Omon/msftbarot/gn/v20210505/msftbarot_Omon_GISS-E3-G_historical_r1i1p1f1_gn_201409-201409.nc\n",
      "/Users/afridlin/data/CMIP6/CMIP/NASA-GISS/GISS-E3-G-2014/historical/r1i1p1f1/Omon/msftbarot/gn/v20210505/msftbarot_Omon_GISS-E3-G_historical_r1i1p1f1_gn_201409-201409.nc\n"
     ]
    },
    {
     "name": "stderr",
     "output_type": "stream",
     "text": [
      "<ipython-input-3-86f386562649>:125: UserWarning: Tight layout not applied. tight_layout cannot make axes height small enough to accommodate all axes decorations\n",
      "  fig.tight_layout(pad=6)\n"
     ]
    },
    {
     "name": "stdout",
     "output_type": "stream",
     "text": [
      "/Users/afridlin/data/CMIP6/CMIP/NASA-GISS/GISS-E3-G-2014/historical/r1i1p1f1/Omon/vo/gn/v20210505/vo_Omon_GISS-E3-G_historical_r1i1p1f1_gn_201409-201409.nc\n",
      "/Users/afridlin/data/CMIP6/CMIP/NASA-GISS/GISS-E3-G-2014/historical/r1i1p1f1/Omon/uo/gn/v20210505/uo_Omon_GISS-E3-G_historical_r1i1p1f1_gn_201409-201409.nc\n",
      "/Users/afridlin/data/CMIP6/CMIP/NASA-GISS/GISS-E3-G-2014/historical/r1i1p1f1/Omon/msftmzmpa/gn/v20210505/msftmzmpa_Omon_GISS-E3-G_historical_r1i1p1f1_gn_201409-201409.nc\n",
      "/Users/afridlin/data/CMIP6/CMIP/NASA-GISS/GISS-E3-G-2014/historical/r1i1p1f1/Omon/mlotst/gn/v20210505/mlotst_Omon_GISS-E3-G_historical_r1i1p1f1_gn_201409-201409.nc\n",
      "/Users/afridlin/data/CMIP6/CMIP/NASA-GISS/GISS-E3-G-2014/historical/r1i1p1f1/Omon/mlotst/gn/v20210505/mlotst_Omon_GISS-E3-G_historical_r1i1p1f1_gn_201409-201409.nc\n"
     ]
    },
    {
     "name": "stderr",
     "output_type": "stream",
     "text": [
      "<ipython-input-3-86f386562649>:125: UserWarning: Tight layout not applied. tight_layout cannot make axes height small enough to accommodate all axes decorations\n",
      "  fig.tight_layout(pad=6)\n"
     ]
    },
    {
     "name": "stdout",
     "output_type": "stream",
     "text": [
      "/Users/afridlin/data/CMIP6/CMIP/NASA-GISS/GISS-E3-G-2014/historical/r1i1p1f1/Omon/hfy/gn/v20210505/hfy_Omon_GISS-E3-G_historical_r1i1p1f1_gn_201409-201409.nc\n",
      "/Users/afridlin/data/CMIP6/CMIP/NASA-GISS/GISS-E3-G-2014/historical/r1i1p1f1/Omon/hfy/gn/v20210505/hfy_Omon_GISS-E3-G_historical_r1i1p1f1_gn_201409-201409.nc\n"
     ]
    },
    {
     "name": "stderr",
     "output_type": "stream",
     "text": [
      "<ipython-input-3-86f386562649>:125: UserWarning: Tight layout not applied. tight_layout cannot make axes height small enough to accommodate all axes decorations\n",
      "  fig.tight_layout(pad=6)\n"
     ]
    },
    {
     "name": "stdout",
     "output_type": "stream",
     "text": [
      "/Users/afridlin/data/CMIP6/CMIP/NASA-GISS/GISS-E3-G-2014/historical/r1i1p1f1/Omon/prra/gr/v20210505/prra_Omon_GISS-E3-G_historical_r1i1p1f1_gr_201409-201409.nc\n",
      "/Users/afridlin/data/CMIP6/CMIP/NASA-GISS/GISS-E3-G-2014/historical/r1i1p1f1/Omon/prra/gr/v20210505/prra_Omon_GISS-E3-G_historical_r1i1p1f1_gr_201409-201409.nc\n"
     ]
    },
    {
     "name": "stderr",
     "output_type": "stream",
     "text": [
      "<ipython-input-3-86f386562649>:125: UserWarning: Tight layout not applied. tight_layout cannot make axes height small enough to accommodate all axes decorations\n",
      "  fig.tight_layout(pad=6)\n"
     ]
    },
    {
     "name": "stdout",
     "output_type": "stream",
     "text": [
      "/Users/afridlin/data/CMIP6/CMIP/NASA-GISS/GISS-E3-G-2014/historical/r1i1p1f1/Omon/hfx/gn/v20210505/hfx_Omon_GISS-E3-G_historical_r1i1p1f1_gn_201409-201409.nc\n",
      "/Users/afridlin/data/CMIP6/CMIP/NASA-GISS/GISS-E3-G-2014/historical/r1i1p1f1/Omon/hfx/gn/v20210505/hfx_Omon_GISS-E3-G_historical_r1i1p1f1_gn_201409-201409.nc\n"
     ]
    },
    {
     "name": "stderr",
     "output_type": "stream",
     "text": [
      "<ipython-input-3-86f386562649>:125: UserWarning: Tight layout not applied. tight_layout cannot make axes height small enough to accommodate all axes decorations\n",
      "  fig.tight_layout(pad=6)\n"
     ]
    },
    {
     "name": "stdout",
     "output_type": "stream",
     "text": [
      "/Users/afridlin/data/CMIP6/CMIP/NASA-GISS/GISS-E3-G-2014/historical/r1i1p1f1/Omon/mlotstmax/gn/v20210505/mlotstmax_Omon_GISS-E3-G_historical_r1i1p1f1_gn_201409-201409.nc\n",
      "/Users/afridlin/data/CMIP6/CMIP/NASA-GISS/GISS-E3-G-2014/historical/r1i1p1f1/Omon/mlotstmax/gn/v20210505/mlotstmax_Omon_GISS-E3-G_historical_r1i1p1f1_gn_201409-201409.nc\n"
     ]
    },
    {
     "name": "stderr",
     "output_type": "stream",
     "text": [
      "<ipython-input-3-86f386562649>:125: UserWarning: Tight layout not applied. tight_layout cannot make axes height small enough to accommodate all axes decorations\n",
      "  fig.tight_layout(pad=6)\n"
     ]
    },
    {
     "name": "stdout",
     "output_type": "stream",
     "text": [
      "/Users/afridlin/data/CMIP6/CMIP/NASA-GISS/GISS-E3-G-2014/historical/r1i1p1f1/Omon/masscello/gn/v20210505/masscello_Omon_GISS-E3-G_historical_r1i1p1f1_gn_201409-201409.nc\n",
      "/Users/afridlin/data/CMIP6/CMIP/NASA-GISS/GISS-E3-G-2014/historical/r1i1p1f1/Omon/thetao/gn/v20210505/thetao_Omon_GISS-E3-G_historical_r1i1p1f1_gn_201409-201409.nc\n",
      "/Users/afridlin/data/CMIP6/CMIP/NASA-GISS/GISS-E3-G-2014/historical/r1i1p1f1/Omon/tos/gn/v20210505/tos_Omon_GISS-E3-G_historical_r1i1p1f1_gn_201409-201409.nc\n",
      "/Users/afridlin/data/CMIP6/CMIP/NASA-GISS/GISS-E3-G-2014/historical/r1i1p1f1/Omon/tos/gn/v20210505/tos_Omon_GISS-E3-G_historical_r1i1p1f1_gn_201409-201409.nc\n"
     ]
    },
    {
     "name": "stderr",
     "output_type": "stream",
     "text": [
      "<ipython-input-3-86f386562649>:125: UserWarning: Tight layout not applied. tight_layout cannot make axes height small enough to accommodate all axes decorations\n",
      "  fig.tight_layout(pad=6)\n"
     ]
    },
    {
     "name": "stdout",
     "output_type": "stream",
     "text": [
      "/Users/afridlin/data/CMIP6/CMIP/NASA-GISS/GISS-E3-G-2014/historical/r1i1p1f1/Omon/tos/gr/v20210505/tos_Omon_GISS-E3-G_historical_r1i1p1f1_gr_201409-201409.nc\n",
      "/Users/afridlin/data/CMIP6/CMIP/NASA-GISS/GISS-E3-G-2014/historical/r1i1p1f1/Omon/tos/gn/v20210505/tos_Omon_GISS-E3-G_historical_r1i1p1f1_gn_201409-201409.nc\n"
     ]
    },
    {
     "name": "stderr",
     "output_type": "stream",
     "text": [
      "<ipython-input-3-86f386562649>:125: UserWarning: Tight layout not applied. tight_layout cannot make axes height small enough to accommodate all axes decorations\n",
      "  fig.tight_layout(pad=6)\n"
     ]
    },
    {
     "name": "stdout",
     "output_type": "stream",
     "text": [
      "/Users/afridlin/data/CMIP6/CMIP/NASA-GISS/GISS-E3-G-2014/historical/r1i1p1f1/Omon/so/gn/v20210505/so_Omon_GISS-E3-G_historical_r1i1p1f1_gn_201409-201409.nc\n",
      "/Users/afridlin/data/CMIP6/CMIP/NASA-GISS/GISS-E3-G-2014/historical/r1i1p1f1/Omon/zos/gn/v20210505/zos_Omon_GISS-E3-G_historical_r1i1p1f1_gn_201409-201409.nc\n",
      "/Users/afridlin/data/CMIP6/CMIP/NASA-GISS/GISS-E3-G-2014/historical/r1i1p1f1/Omon/zos/gn/v20210505/zos_Omon_GISS-E3-G_historical_r1i1p1f1_gn_201409-201409.nc\n"
     ]
    },
    {
     "name": "stderr",
     "output_type": "stream",
     "text": [
      "<ipython-input-3-86f386562649>:125: UserWarning: Tight layout not applied. tight_layout cannot make axes height small enough to accommodate all axes decorations\n",
      "  fig.tight_layout(pad=6)\n"
     ]
    },
    {
     "name": "stdout",
     "output_type": "stream",
     "text": [
      "/Users/afridlin/data/CMIP6/CMIP/NASA-GISS/GISS-E3-G-2014/historical/r1i1p1f1/Omon/umo/gn/v20210505/umo_Omon_GISS-E3-G_historical_r1i1p1f1_gn_201409-201409.nc\n",
      "/Users/afridlin/data/CMIP6/CMIP/NASA-GISS/GISS-E3-G-2014/historical/r1i1p1f1/Omon/sos/gn/v20210505/sos_Omon_GISS-E3-G_historical_r1i1p1f1_gn_201409-201409.nc\n",
      "/Users/afridlin/data/CMIP6/CMIP/NASA-GISS/GISS-E3-G-2014/historical/r1i1p1f1/Omon/sos/gn/v20210505/sos_Omon_GISS-E3-G_historical_r1i1p1f1_gn_201409-201409.nc\n"
     ]
    },
    {
     "name": "stderr",
     "output_type": "stream",
     "text": [
      "<ipython-input-3-86f386562649>:125: UserWarning: Tight layout not applied. tight_layout cannot make axes height small enough to accommodate all axes decorations\n",
      "  fig.tight_layout(pad=6)\n"
     ]
    },
    {
     "name": "stdout",
     "output_type": "stream",
     "text": [
      "/Users/afridlin/data/CMIP6/CMIP/NASA-GISS/GISS-E3-G-2014/historical/r1i1p1f1/Omon/msftmz/gn/v20210505/msftmz_Omon_GISS-E3-G_historical_r1i1p1f1_gn_201409-201409.nc\n",
      "/Users/afridlin/data/CMIP6/CMIP/NASA-GISS/GISS-E3-G-2014/historical/r1i1p1f1/Omon/vmo/gn/v20210505/vmo_Omon_GISS-E3-G_historical_r1i1p1f1_gn_201409-201409.nc\n",
      "/Users/afridlin/data/CMIP6/CMIP/NASA-GISS/GISS-E3-G-2014/historical/r1i1p1f1/Omon/pbo/gn/v20210505/pbo_Omon_GISS-E3-G_historical_r1i1p1f1_gn_201409-201409.nc\n",
      "/Users/afridlin/data/CMIP6/CMIP/NASA-GISS/GISS-E3-G-2014/historical/r1i1p1f1/Omon/pbo/gn/v20210505/pbo_Omon_GISS-E3-G_historical_r1i1p1f1_gn_201409-201409.nc\n"
     ]
    },
    {
     "name": "stderr",
     "output_type": "stream",
     "text": [
      "<ipython-input-3-86f386562649>:125: UserWarning: Tight layout not applied. tight_layout cannot make axes height small enough to accommodate all axes decorations\n",
      "  fig.tight_layout(pad=6)\n"
     ]
    },
    {
     "name": "stdout",
     "output_type": "stream",
     "text": [
      "/Users/afridlin/data/CMIP6/CMIP/NASA-GISS/GISS-E3-G-2014/historical/r1i1p1f1/Omon/wo/gn/v20210505/wo_Omon_GISS-E3-G_historical_r1i1p1f1_gn_201409-201409.nc\n",
      "/Users/afridlin/data/CMIP6/CMIP/NASA-GISS/GISS-E3-G-2014/historical/r1i1p1f1/CFmon/clws/gr/v20210505/clws_CFmon_GISS-E3-G_historical_r1i1p1f1_gr_201409-201409.nc\n",
      "/Users/afridlin/data/CMIP6/CMIP/NASA-GISS/GISS-E3-G-2014/historical/r1i1p1f1/CFmon/hus/gr/v20210505/hus_CFmon_GISS-E3-G_historical_r1i1p1f1_gr_201409-201409.nc\n",
      "/Users/afridlin/data/CMIP6/CMIP/NASA-GISS/GISS-E3-G-2014/historical/r1i1p1f1/CFmon/hur/gr/v20210505/hur_CFmon_GISS-E3-G_historical_r1i1p1f1_gr_201409-201409.nc\n",
      "/Users/afridlin/data/CMIP6/CMIP/NASA-GISS/GISS-E3-G-2014/historical/r1i1p1f1/CFmon/ps/gr/v20210505/ps_CFmon_GISS-E3-G_historical_r1i1p1f1_gr_201409-201409.nc\n",
      "/Users/afridlin/data/CMIP6/CMIP/NASA-GISS/GISS-E3-G-2014/historical/r1i1p1f1/CFmon/ps/gr/v20210505/ps_CFmon_GISS-E3-G_historical_r1i1p1f1_gr_201409-201409.nc\n"
     ]
    },
    {
     "name": "stderr",
     "output_type": "stream",
     "text": [
      "<ipython-input-3-86f386562649>:125: UserWarning: Tight layout not applied. tight_layout cannot make axes height small enough to accommodate all axes decorations\n",
      "  fig.tight_layout(pad=6)\n"
     ]
    },
    {
     "name": "stdout",
     "output_type": "stream",
     "text": [
      "/Users/afridlin/data/CMIP6/CMIP/NASA-GISS/GISS-E3-G-2014/historical/r1i1p1f1/CFmon/clis/gr/v20210505/clis_CFmon_GISS-E3-G_historical_r1i1p1f1_gr_201409-201409.nc\n",
      "/Users/afridlin/data/CMIP6/CMIP/NASA-GISS/GISS-E3-G-2014/historical/r1i1p1f1/CFmon/ta/gr/v20210505/ta_CFmon_GISS-E3-G_historical_r1i1p1f1_gr_201409-201409.nc\n",
      "/Users/afridlin/data/CMIP6/CMIP/NASA-GISS/GISS-E3-G-2014/historical/r1i1p1f1/CFmon/mcu/gr/v20210505/mcu_CFmon_GISS-E3-G_historical_r1i1p1f1_gr_201409-201409.nc\n",
      "/Users/afridlin/data/CMIP6/CMIP/NASA-GISS/GISS-E3-G-2014/historical/r1i1p1f1/fx/sftgif/gr/v20210505/sftgif_fx_GISS-E3-G_historical_r1i1p1f1_gr.nc\n",
      "/Users/afridlin/data/CMIP6/CMIP/NASA-GISS/GISS-E3-G-2014/historical/r1i1p1f1/fx/sftgif/gr/v20210505/sftgif_fx_GISS-E3-G_historical_r1i1p1f1_gr.nc\n"
     ]
    },
    {
     "name": "stderr",
     "output_type": "stream",
     "text": [
      "<ipython-input-3-86f386562649>:75: UserWarning: Tight layout not applied. tight_layout cannot make axes height small enough to accommodate all axes decorations\n",
      "  fig.tight_layout(pad=6)\n"
     ]
    },
    {
     "name": "stdout",
     "output_type": "stream",
     "text": [
      "/Users/afridlin/data/CMIP6/CMIP/NASA-GISS/GISS-E3-G-2014/historical/r1i1p1f1/fx/orog/gr/v20210505/orog_fx_GISS-E3-G_historical_r1i1p1f1_gr.nc\n",
      "/Users/afridlin/data/CMIP6/CMIP/NASA-GISS/GISS-E3-G-2014/historical/r1i1p1f1/fx/orog/gr/v20210505/orog_fx_GISS-E3-G_historical_r1i1p1f1_gr.nc\n"
     ]
    },
    {
     "name": "stderr",
     "output_type": "stream",
     "text": [
      "<ipython-input-3-86f386562649>:75: UserWarning: Tight layout not applied. tight_layout cannot make axes height small enough to accommodate all axes decorations\n",
      "  fig.tight_layout(pad=6)\n"
     ]
    },
    {
     "name": "stdout",
     "output_type": "stream",
     "text": [
      "/Users/afridlin/data/CMIP6/CMIP/NASA-GISS/GISS-E3-G-2014/historical/r1i1p1f1/fx/areacella/gr/v20210505/areacella_fx_GISS-E3-G_historical_r1i1p1f1_gr.nc\n",
      "/Users/afridlin/data/CMIP6/CMIP/NASA-GISS/GISS-E3-G-2014/historical/r1i1p1f1/fx/areacella/gr/v20210505/areacella_fx_GISS-E3-G_historical_r1i1p1f1_gr.nc\n"
     ]
    },
    {
     "name": "stderr",
     "output_type": "stream",
     "text": [
      "<ipython-input-3-86f386562649>:75: UserWarning: Tight layout not applied. tight_layout cannot make axes height small enough to accommodate all axes decorations\n",
      "  fig.tight_layout(pad=6)\n"
     ]
    },
    {
     "name": "stdout",
     "output_type": "stream",
     "text": [
      "/Users/afridlin/data/CMIP6/CMIP/NASA-GISS/GISS-E3-G-2014/historical/r1i1p1f1/fx/sftlf/gr/v20210505/sftlf_fx_GISS-E3-G_historical_r1i1p1f1_gr.nc\n",
      "/Users/afridlin/data/CMIP6/CMIP/NASA-GISS/GISS-E3-G-2014/historical/r1i1p1f1/fx/sftlf/gr/v20210505/sftlf_fx_GISS-E3-G_historical_r1i1p1f1_gr.nc\n"
     ]
    },
    {
     "name": "stderr",
     "output_type": "stream",
     "text": [
      "<ipython-input-3-86f386562649>:75: UserWarning: Tight layout not applied. tight_layout cannot make axes height small enough to accommodate all axes decorations\n",
      "  fig.tight_layout(pad=6)\n"
     ]
    },
    {
     "name": "stdout",
     "output_type": "stream",
     "text": [
      "/Users/afridlin/data/CMIP6/CMIP/NASA-GISS/GISS-E3-G-2014/historical/r1i1p1f1/Emon/cSoil/gr/v20210505/cSoil_Emon_GISS-E3-G_historical_r1i1p1f1_gr_201409-201409.nc\n",
      "/Users/afridlin/data/CMIP6/CMIP/NASA-GISS/GISS-E3-G-2014/historical/r1i1p1f1/Emon/cSoil/gr/v20210505/cSoil_Emon_GISS-E3-G_historical_r1i1p1f1_gr_201409-201409.nc\n"
     ]
    },
    {
     "name": "stderr",
     "output_type": "stream",
     "text": [
      "<ipython-input-3-86f386562649>:125: UserWarning: Tight layout not applied. tight_layout cannot make axes height small enough to accommodate all axes decorations\n",
      "  fig.tight_layout(pad=6)\n"
     ]
    },
    {
     "name": "stdout",
     "output_type": "stream",
     "text": [
      "/Users/afridlin/data/CMIP6/CMIP/NASA-GISS/GISS-E3-G-2014/historical/r1i1p1f1/Emon/va/gr/v20210505/va_Emon_GISS-E3-G_historical_r1i1p1f1_gr_201409-201409.nc\n",
      "/Users/afridlin/data/CMIP6/CMIP/NASA-GISS/GISS-E3-G-2014/historical/r1i1p1f1/Emon/rls/gr/v20210505/rls_Emon_GISS-E3-G_historical_r1i1p1f1_gr_201409-201409.nc\n",
      "/Users/afridlin/data/CMIP6/CMIP/NASA-GISS/GISS-E3-G-2014/historical/r1i1p1f1/Emon/rls/gr/v20210505/rls_Emon_GISS-E3-G_historical_r1i1p1f1_gr_201409-201409.nc\n"
     ]
    },
    {
     "name": "stderr",
     "output_type": "stream",
     "text": [
      "<ipython-input-3-86f386562649>:125: UserWarning: Tight layout not applied. tight_layout cannot make axes height small enough to accommodate all axes decorations\n",
      "  fig.tight_layout(pad=6)\n"
     ]
    },
    {
     "name": "stdout",
     "output_type": "stream",
     "text": [
      "/Users/afridlin/data/CMIP6/CMIP/NASA-GISS/GISS-E3-G-2014/historical/r1i1p1f1/Emon/intuadse/gr/v20210505/intuadse_Emon_GISS-E3-G_historical_r1i1p1f1_gr_201409-201409.nc\n",
      "/Users/afridlin/data/CMIP6/CMIP/NASA-GISS/GISS-E3-G-2014/historical/r1i1p1f1/Emon/intuadse/gr/v20210505/intuadse_Emon_GISS-E3-G_historical_r1i1p1f1_gr_201409-201409.nc\n"
     ]
    },
    {
     "name": "stderr",
     "output_type": "stream",
     "text": [
      "<ipython-input-3-86f386562649>:125: UserWarning: Tight layout not applied. tight_layout cannot make axes height small enough to accommodate all axes decorations\n",
      "  fig.tight_layout(pad=6)\n"
     ]
    },
    {
     "name": "stdout",
     "output_type": "stream",
     "text": [
      "/Users/afridlin/data/CMIP6/CMIP/NASA-GISS/GISS-E3-G-2014/historical/r1i1p1f1/Emon/ua/gr/v20210505/ua_Emon_GISS-E3-G_historical_r1i1p1f1_gr_201409-201409.nc\n",
      "/Users/afridlin/data/CMIP6/CMIP/NASA-GISS/GISS-E3-G-2014/historical/r1i1p1f1/Emon/intvadse/gr/v20210505/intvadse_Emon_GISS-E3-G_historical_r1i1p1f1_gr_201409-201409.nc\n",
      "/Users/afridlin/data/CMIP6/CMIP/NASA-GISS/GISS-E3-G-2014/historical/r1i1p1f1/Emon/intvadse/gr/v20210505/intvadse_Emon_GISS-E3-G_historical_r1i1p1f1_gr_201409-201409.nc\n"
     ]
    },
    {
     "name": "stderr",
     "output_type": "stream",
     "text": [
      "<ipython-input-3-86f386562649>:125: UserWarning: Tight layout not applied. tight_layout cannot make axes height small enough to accommodate all axes decorations\n",
      "  fig.tight_layout(pad=6)\n"
     ]
    },
    {
     "name": "stdout",
     "output_type": "stream",
     "text": [
      "/Users/afridlin/data/CMIP6/CMIP/NASA-GISS/GISS-E3-G-2014/historical/r1i1p1f1/Emon/wap/gr/v20210505/wap_Emon_GISS-E3-G_historical_r1i1p1f1_gr_201409-201409.nc\n",
      "/Users/afridlin/data/CMIP6/CMIP/NASA-GISS/GISS-E3-G-2014/historical/r1i1p1f1/Emon/rss/gr/v20210505/rss_Emon_GISS-E3-G_historical_r1i1p1f1_gr_201409-201409.nc\n",
      "/Users/afridlin/data/CMIP6/CMIP/NASA-GISS/GISS-E3-G-2014/historical/r1i1p1f1/Emon/rss/gr/v20210505/rss_Emon_GISS-E3-G_historical_r1i1p1f1_gr_201409-201409.nc\n"
     ]
    },
    {
     "name": "stderr",
     "output_type": "stream",
     "text": [
      "<ipython-input-3-86f386562649>:125: UserWarning: Tight layout not applied. tight_layout cannot make axes height small enough to accommodate all axes decorations\n",
      "  fig.tight_layout(pad=6)\n"
     ]
    },
    {
     "name": "stdout",
     "output_type": "stream",
     "text": [
      "/Users/afridlin/data/CMIP6/CMIP/NASA-GISS/GISS-E3-G-2014/historical/r1i1p1f1/Emon/hus/gr/v20210505/hus_Emon_GISS-E3-G_historical_r1i1p1f1_gr_201409-201409.nc\n",
      "/Users/afridlin/data/CMIP6/CMIP/NASA-GISS/GISS-E3-G-2014/historical/r1i1p1f1/Emon/wtd/gr/v20210505/wtd_Emon_GISS-E3-G_historical_r1i1p1f1_gr_201409-201409.nc\n",
      "/Users/afridlin/data/CMIP6/CMIP/NASA-GISS/GISS-E3-G-2014/historical/r1i1p1f1/Emon/wtd/gr/v20210505/wtd_Emon_GISS-E3-G_historical_r1i1p1f1_gr_201409-201409.nc\n"
     ]
    },
    {
     "name": "stderr",
     "output_type": "stream",
     "text": [
      "<ipython-input-3-86f386562649>:125: UserWarning: Tight layout not applied. tight_layout cannot make axes height small enough to accommodate all axes decorations\n",
      "  fig.tight_layout(pad=6)\n"
     ]
    },
    {
     "name": "stdout",
     "output_type": "stream",
     "text": [
      "/Users/afridlin/data/CMIP6/CMIP/NASA-GISS/GISS-E3-G-2014/historical/r1i1p1f1/Emon/orog/gr/v20210505/orog_Emon_GISS-E3-G_historical_r1i1p1f1_gr_201409-201409.nc\n",
      "/Users/afridlin/data/CMIP6/CMIP/NASA-GISS/GISS-E3-G-2014/historical/r1i1p1f1/Emon/orog/gr/v20210505/orog_Emon_GISS-E3-G_historical_r1i1p1f1_gr_201409-201409.nc\n"
     ]
    },
    {
     "name": "stderr",
     "output_type": "stream",
     "text": [
      "<ipython-input-3-86f386562649>:125: UserWarning: Tight layout not applied. tight_layout cannot make axes height small enough to accommodate all axes decorations\n",
      "  fig.tight_layout(pad=6)\n"
     ]
    },
    {
     "name": "stdout",
     "output_type": "stream",
     "text": [
      "/Users/afridlin/data/CMIP6/CMIP/NASA-GISS/GISS-E3-G-2014/historical/r1i1p1f1/Emon/mrsol/gr/v20210505/mrsol_Emon_GISS-E3-G_historical_r1i1p1f1_gr_201409-201409.nc\n",
      "/Users/afridlin/data/CMIP6/CMIP/NASA-GISS/GISS-E3-G-2014/historical/r1i1p1f1/Emon/ps/gr/v20210505/ps_Emon_GISS-E3-G_historical_r1i1p1f1_gr_201409-201409.nc\n",
      "/Users/afridlin/data/CMIP6/CMIP/NASA-GISS/GISS-E3-G-2014/historical/r1i1p1f1/Emon/ps/gr/v20210505/ps_Emon_GISS-E3-G_historical_r1i1p1f1_gr_201409-201409.nc\n"
     ]
    },
    {
     "name": "stderr",
     "output_type": "stream",
     "text": [
      "<ipython-input-3-86f386562649>:125: UserWarning: Tight layout not applied. tight_layout cannot make axes height small enough to accommodate all axes decorations\n",
      "  fig.tight_layout(pad=6)\n"
     ]
    },
    {
     "name": "stdout",
     "output_type": "stream",
     "text": [
      "/Users/afridlin/data/CMIP6/CMIP/NASA-GISS/GISS-E3-G-2014/historical/r1i1p1f1/Emon/vegFrac/gr/v20210505/vegFrac_Emon_GISS-E3-G_historical_r1i1p1f1_gr_201409-201409.nc\n",
      "/Users/afridlin/data/CMIP6/CMIP/NASA-GISS/GISS-E3-G-2014/historical/r1i1p1f1/Emon/vegFrac/gr/v20210505/vegFrac_Emon_GISS-E3-G_historical_r1i1p1f1_gr_201409-201409.nc\n"
     ]
    },
    {
     "name": "stderr",
     "output_type": "stream",
     "text": [
      "<ipython-input-3-86f386562649>:125: UserWarning: Tight layout not applied. tight_layout cannot make axes height small enough to accommodate all axes decorations\n",
      "  fig.tight_layout(pad=6)\n"
     ]
    },
    {
     "name": "stdout",
     "output_type": "stream",
     "text": [
      "/Users/afridlin/data/CMIP6/CMIP/NASA-GISS/GISS-E3-G-2014/historical/r1i1p1f1/Emon/uqint/gr/v20210505/uqint_Emon_GISS-E3-G_historical_r1i1p1f1_gr_201409-201409.nc\n",
      "/Users/afridlin/data/CMIP6/CMIP/NASA-GISS/GISS-E3-G-2014/historical/r1i1p1f1/Emon/uqint/gr/v20210505/uqint_Emon_GISS-E3-G_historical_r1i1p1f1_gr_201409-201409.nc\n"
     ]
    },
    {
     "name": "stderr",
     "output_type": "stream",
     "text": [
      "<ipython-input-3-86f386562649>:125: UserWarning: Tight layout not applied. tight_layout cannot make axes height small enough to accommodate all axes decorations\n",
      "  fig.tight_layout(pad=6)\n"
     ]
    },
    {
     "name": "stdout",
     "output_type": "stream",
     "text": [
      "/Users/afridlin/data/CMIP6/CMIP/NASA-GISS/GISS-E3-G-2014/historical/r1i1p1f1/Emon/vqint/gr/v20210505/vqint_Emon_GISS-E3-G_historical_r1i1p1f1_gr_201409-201409.nc\n",
      "/Users/afridlin/data/CMIP6/CMIP/NASA-GISS/GISS-E3-G-2014/historical/r1i1p1f1/Emon/vqint/gr/v20210505/vqint_Emon_GISS-E3-G_historical_r1i1p1f1_gr_201409-201409.nc\n"
     ]
    },
    {
     "name": "stderr",
     "output_type": "stream",
     "text": [
      "<ipython-input-3-86f386562649>:125: UserWarning: Tight layout not applied. tight_layout cannot make axes height small enough to accommodate all axes decorations\n",
      "  fig.tight_layout(pad=6)\n"
     ]
    },
    {
     "name": "stdout",
     "output_type": "stream",
     "text": [
      "/Users/afridlin/data/CMIP6/CMIP/NASA-GISS/GISS-E3-G-2014/historical/r1i1p1f1/Amon/rlds/gr/v20210505/rlds_Amon_GISS-E3-G_historical_r1i1p1f1_gr_201409-201409.nc\n",
      "/Users/afridlin/data/CMIP6/CMIP/NASA-GISS/GISS-E3-G-2014/historical/r1i1p1f1/Amon/rlds/gr/v20210505/rlds_Amon_GISS-E3-G_historical_r1i1p1f1_gr_201409-201409.nc\n"
     ]
    },
    {
     "name": "stderr",
     "output_type": "stream",
     "text": [
      "<ipython-input-3-86f386562649>:125: UserWarning: Tight layout not applied. tight_layout cannot make axes height small enough to accommodate all axes decorations\n",
      "  fig.tight_layout(pad=6)\n"
     ]
    },
    {
     "name": "stdout",
     "output_type": "stream",
     "text": [
      "/Users/afridlin/data/CMIP6/CMIP/NASA-GISS/GISS-E3-G-2014/historical/r1i1p1f1/Amon/va/gr/v20210505/va_Amon_GISS-E3-G_historical_r1i1p1f1_gr_201409-201409.nc\n",
      "/Users/afridlin/data/CMIP6/CMIP/NASA-GISS/GISS-E3-G-2014/historical/r1i1p1f1/Amon/ua/gr/v20210505/ua_Amon_GISS-E3-G_historical_r1i1p1f1_gr_201409-201409.nc\n",
      "/Users/afridlin/data/CMIP6/CMIP/NASA-GISS/GISS-E3-G-2014/historical/r1i1p1f1/Amon/tauv/gr/v20210505/tauv_Amon_GISS-E3-G_historical_r1i1p1f1_gr_201409-201409.nc\n",
      "/Users/afridlin/data/CMIP6/CMIP/NASA-GISS/GISS-E3-G-2014/historical/r1i1p1f1/Amon/tauv/gr/v20210505/tauv_Amon_GISS-E3-G_historical_r1i1p1f1_gr_201409-201409.nc\n"
     ]
    },
    {
     "name": "stderr",
     "output_type": "stream",
     "text": [
      "<ipython-input-3-86f386562649>:125: UserWarning: Tight layout not applied. tight_layout cannot make axes height small enough to accommodate all axes decorations\n",
      "  fig.tight_layout(pad=6)\n"
     ]
    },
    {
     "name": "stdout",
     "output_type": "stream",
     "text": [
      "/Users/afridlin/data/CMIP6/CMIP/NASA-GISS/GISS-E3-G-2014/historical/r1i1p1f1/Amon/rlut/gr/v20210505/rlut_Amon_GISS-E3-G_historical_r1i1p1f1_gr_201409-201409.nc\n",
      "/Users/afridlin/data/CMIP6/CMIP/NASA-GISS/GISS-E3-G-2014/historical/r1i1p1f1/Amon/rlut/gr/v20210505/rlut_Amon_GISS-E3-G_historical_r1i1p1f1_gr_201409-201409.nc\n"
     ]
    },
    {
     "name": "stderr",
     "output_type": "stream",
     "text": [
      "<ipython-input-3-86f386562649>:125: UserWarning: Tight layout not applied. tight_layout cannot make axes height small enough to accommodate all axes decorations\n",
      "  fig.tight_layout(pad=6)\n"
     ]
    },
    {
     "name": "stdout",
     "output_type": "stream",
     "text": [
      "/Users/afridlin/data/CMIP6/CMIP/NASA-GISS/GISS-E3-G-2014/historical/r1i1p1f1/Amon/rlus/gr/v20210505/rlus_Amon_GISS-E3-G_historical_r1i1p1f1_gr_201409-201409.nc\n",
      "/Users/afridlin/data/CMIP6/CMIP/NASA-GISS/GISS-E3-G-2014/historical/r1i1p1f1/Amon/rlus/gr/v20210505/rlus_Amon_GISS-E3-G_historical_r1i1p1f1_gr_201409-201409.nc\n"
     ]
    },
    {
     "name": "stderr",
     "output_type": "stream",
     "text": [
      "<ipython-input-3-86f386562649>:125: UserWarning: Tight layout not applied. tight_layout cannot make axes height small enough to accommodate all axes decorations\n",
      "  fig.tight_layout(pad=6)\n"
     ]
    },
    {
     "name": "stdout",
     "output_type": "stream",
     "text": [
      "/Users/afridlin/data/CMIP6/CMIP/NASA-GISS/GISS-E3-G-2014/historical/r1i1p1f1/Amon/uas/gr/v20210505/uas_Amon_GISS-E3-G_historical_r1i1p1f1_gr_201409-201409.nc\n",
      "/Users/afridlin/data/CMIP6/CMIP/NASA-GISS/GISS-E3-G-2014/historical/r1i1p1f1/Amon/uas/gr/v20210505/uas_Amon_GISS-E3-G_historical_r1i1p1f1_gr_201409-201409.nc\n"
     ]
    },
    {
     "name": "stderr",
     "output_type": "stream",
     "text": [
      "<ipython-input-3-86f386562649>:125: UserWarning: Tight layout not applied. tight_layout cannot make axes height small enough to accommodate all axes decorations\n",
      "  fig.tight_layout(pad=6)\n"
     ]
    },
    {
     "name": "stdout",
     "output_type": "stream",
     "text": [
      "/Users/afridlin/data/CMIP6/CMIP/NASA-GISS/GISS-E3-G-2014/historical/r1i1p1f1/Amon/hfls/gr/v20210505/hfls_Amon_GISS-E3-G_historical_r1i1p1f1_gr_201409-201409.nc\n",
      "/Users/afridlin/data/CMIP6/CMIP/NASA-GISS/GISS-E3-G-2014/historical/r1i1p1f1/Amon/hfls/gr/v20210505/hfls_Amon_GISS-E3-G_historical_r1i1p1f1_gr_201409-201409.nc\n"
     ]
    },
    {
     "name": "stderr",
     "output_type": "stream",
     "text": [
      "<ipython-input-3-86f386562649>:125: UserWarning: Tight layout not applied. tight_layout cannot make axes height small enough to accommodate all axes decorations\n",
      "  fig.tight_layout(pad=6)\n"
     ]
    },
    {
     "name": "stdout",
     "output_type": "stream",
     "text": [
      "/Users/afridlin/data/CMIP6/CMIP/NASA-GISS/GISS-E3-G-2014/historical/r1i1p1f1/Amon/ci/gr/v20210505/ci_Amon_GISS-E3-G_historical_r1i1p1f1_gr_201409-201409.nc\n",
      "/Users/afridlin/data/CMIP6/CMIP/NASA-GISS/GISS-E3-G-2014/historical/r1i1p1f1/Amon/ci/gr/v20210505/ci_Amon_GISS-E3-G_historical_r1i1p1f1_gr_201409-201409.nc\n"
     ]
    },
    {
     "name": "stderr",
     "output_type": "stream",
     "text": [
      "<ipython-input-3-86f386562649>:125: UserWarning: Tight layout not applied. tight_layout cannot make axes height small enough to accommodate all axes decorations\n",
      "  fig.tight_layout(pad=6)\n"
     ]
    },
    {
     "name": "stdout",
     "output_type": "stream",
     "text": [
      "/Users/afridlin/data/CMIP6/CMIP/NASA-GISS/GISS-E3-G-2014/historical/r1i1p1f1/Amon/sfcWind/gr/v20210505/sfcWind_Amon_GISS-E3-G_historical_r1i1p1f1_gr_201409-201409.nc\n",
      "/Users/afridlin/data/CMIP6/CMIP/NASA-GISS/GISS-E3-G-2014/historical/r1i1p1f1/Amon/sfcWind/gr/v20210505/sfcWind_Amon_GISS-E3-G_historical_r1i1p1f1_gr_201409-201409.nc\n"
     ]
    },
    {
     "name": "stderr",
     "output_type": "stream",
     "text": [
      "<ipython-input-3-86f386562649>:125: UserWarning: Tight layout not applied. tight_layout cannot make axes height small enough to accommodate all axes decorations\n",
      "  fig.tight_layout(pad=6)\n"
     ]
    },
    {
     "name": "stdout",
     "output_type": "stream",
     "text": [
      "/Users/afridlin/data/CMIP6/CMIP/NASA-GISS/GISS-E3-G-2014/historical/r1i1p1f1/Amon/rsut/gr/v20210505/rsut_Amon_GISS-E3-G_historical_r1i1p1f1_gr_201409-201409.nc\n",
      "/Users/afridlin/data/CMIP6/CMIP/NASA-GISS/GISS-E3-G-2014/historical/r1i1p1f1/Amon/rsut/gr/v20210505/rsut_Amon_GISS-E3-G_historical_r1i1p1f1_gr_201409-201409.nc\n"
     ]
    },
    {
     "name": "stderr",
     "output_type": "stream",
     "text": [
      "<ipython-input-3-86f386562649>:125: UserWarning: Tight layout not applied. tight_layout cannot make axes height small enough to accommodate all axes decorations\n",
      "  fig.tight_layout(pad=6)\n"
     ]
    },
    {
     "name": "stdout",
     "output_type": "stream",
     "text": [
      "/Users/afridlin/data/CMIP6/CMIP/NASA-GISS/GISS-E3-G-2014/historical/r1i1p1f1/Amon/rsus/gr/v20210505/rsus_Amon_GISS-E3-G_historical_r1i1p1f1_gr_201409-201409.nc\n",
      "/Users/afridlin/data/CMIP6/CMIP/NASA-GISS/GISS-E3-G-2014/historical/r1i1p1f1/Amon/rsus/gr/v20210505/rsus_Amon_GISS-E3-G_historical_r1i1p1f1_gr_201409-201409.nc\n"
     ]
    },
    {
     "name": "stderr",
     "output_type": "stream",
     "text": [
      "<ipython-input-3-86f386562649>:125: UserWarning: Tight layout not applied. tight_layout cannot make axes height small enough to accommodate all axes decorations\n",
      "  fig.tight_layout(pad=6)\n"
     ]
    },
    {
     "name": "stdout",
     "output_type": "stream",
     "text": [
      "/Users/afridlin/data/CMIP6/CMIP/NASA-GISS/GISS-E3-G-2014/historical/r1i1p1f1/Amon/psl/gr/v20210505/psl_Amon_GISS-E3-G_historical_r1i1p1f1_gr_201409-201409.nc\n",
      "/Users/afridlin/data/CMIP6/CMIP/NASA-GISS/GISS-E3-G-2014/historical/r1i1p1f1/Amon/psl/gr/v20210505/psl_Amon_GISS-E3-G_historical_r1i1p1f1_gr_201409-201409.nc\n"
     ]
    },
    {
     "name": "stderr",
     "output_type": "stream",
     "text": [
      "<ipython-input-3-86f386562649>:125: UserWarning: Tight layout not applied. tight_layout cannot make axes height small enough to accommodate all axes decorations\n",
      "  fig.tight_layout(pad=6)\n"
     ]
    },
    {
     "name": "stdout",
     "output_type": "stream",
     "text": [
      "/Users/afridlin/data/CMIP6/CMIP/NASA-GISS/GISS-E3-G-2014/historical/r1i1p1f1/Amon/sci/gr/v20210505/sci_Amon_GISS-E3-G_historical_r1i1p1f1_gr_201409-201409.nc\n",
      "/Users/afridlin/data/CMIP6/CMIP/NASA-GISS/GISS-E3-G-2014/historical/r1i1p1f1/Amon/sci/gr/v20210505/sci_Amon_GISS-E3-G_historical_r1i1p1f1_gr_201409-201409.nc\n"
     ]
    },
    {
     "name": "stderr",
     "output_type": "stream",
     "text": [
      "<ipython-input-3-86f386562649>:125: UserWarning: Tight layout not applied. tight_layout cannot make axes height small enough to accommodate all axes decorations\n",
      "  fig.tight_layout(pad=6)\n"
     ]
    },
    {
     "name": "stdout",
     "output_type": "stream",
     "text": [
      "/Users/afridlin/data/CMIP6/CMIP/NASA-GISS/GISS-E3-G-2014/historical/r1i1p1f1/Amon/rsdscs/gr/v20210505/rsdscs_Amon_GISS-E3-G_historical_r1i1p1f1_gr_201409-201409.nc\n",
      "/Users/afridlin/data/CMIP6/CMIP/NASA-GISS/GISS-E3-G-2014/historical/r1i1p1f1/Amon/rsdscs/gr/v20210505/rsdscs_Amon_GISS-E3-G_historical_r1i1p1f1_gr_201409-201409.nc\n"
     ]
    },
    {
     "name": "stderr",
     "output_type": "stream",
     "text": [
      "<ipython-input-3-86f386562649>:125: UserWarning: Tight layout not applied. tight_layout cannot make axes height small enough to accommodate all axes decorations\n",
      "  fig.tight_layout(pad=6)\n"
     ]
    },
    {
     "name": "stdout",
     "output_type": "stream",
     "text": [
      "/Users/afridlin/data/CMIP6/CMIP/NASA-GISS/GISS-E3-G-2014/historical/r1i1p1f1/Amon/hfss/gr/v20210505/hfss_Amon_GISS-E3-G_historical_r1i1p1f1_gr_201409-201409.nc\n",
      "/Users/afridlin/data/CMIP6/CMIP/NASA-GISS/GISS-E3-G-2014/historical/r1i1p1f1/Amon/hfss/gr/v20210505/hfss_Amon_GISS-E3-G_historical_r1i1p1f1_gr_201409-201409.nc\n"
     ]
    },
    {
     "name": "stderr",
     "output_type": "stream",
     "text": [
      "<ipython-input-3-86f386562649>:125: UserWarning: Tight layout not applied. tight_layout cannot make axes height small enough to accommodate all axes decorations\n",
      "  fig.tight_layout(pad=6)\n"
     ]
    },
    {
     "name": "stdout",
     "output_type": "stream",
     "text": [
      "/Users/afridlin/data/CMIP6/CMIP/NASA-GISS/GISS-E3-G-2014/historical/r1i1p1f1/Amon/clt/gr/v20210505/clt_Amon_GISS-E3-G_historical_r1i1p1f1_gr_201409-201409.nc\n",
      "/Users/afridlin/data/CMIP6/CMIP/NASA-GISS/GISS-E3-G-2014/historical/r1i1p1f1/Amon/clt/gr/v20210505/clt_Amon_GISS-E3-G_historical_r1i1p1f1_gr_201409-201409.nc\n"
     ]
    },
    {
     "name": "stderr",
     "output_type": "stream",
     "text": [
      "<ipython-input-3-86f386562649>:125: UserWarning: Tight layout not applied. tight_layout cannot make axes height small enough to accommodate all axes decorations\n",
      "  fig.tight_layout(pad=6)\n"
     ]
    },
    {
     "name": "stdout",
     "output_type": "stream",
     "text": [
      "/Users/afridlin/data/CMIP6/CMIP/NASA-GISS/GISS-E3-G-2014/historical/r1i1p1f1/Amon/rlutcs/gr/v20210505/rlutcs_Amon_GISS-E3-G_historical_r1i1p1f1_gr_201409-201409.nc\n",
      "/Users/afridlin/data/CMIP6/CMIP/NASA-GISS/GISS-E3-G-2014/historical/r1i1p1f1/Amon/rlutcs/gr/v20210505/rlutcs_Amon_GISS-E3-G_historical_r1i1p1f1_gr_201409-201409.nc\n"
     ]
    },
    {
     "name": "stderr",
     "output_type": "stream",
     "text": [
      "<ipython-input-3-86f386562649>:125: UserWarning: Tight layout not applied. tight_layout cannot make axes height small enough to accommodate all axes decorations\n",
      "  fig.tight_layout(pad=6)\n"
     ]
    },
    {
     "name": "stdout",
     "output_type": "stream",
     "text": [
      "/Users/afridlin/data/CMIP6/CMIP/NASA-GISS/GISS-E3-G-2014/historical/r1i1p1f1/Amon/hus/gr/v20210505/hus_Amon_GISS-E3-G_historical_r1i1p1f1_gr_201409-201409.nc\n",
      "/Users/afridlin/data/CMIP6/CMIP/NASA-GISS/GISS-E3-G-2014/historical/r1i1p1f1/Amon/hurs/gr/v20210505/hurs_Amon_GISS-E3-G_historical_r1i1p1f1_gr_201409-201409.nc\n",
      "/Users/afridlin/data/CMIP6/CMIP/NASA-GISS/GISS-E3-G-2014/historical/r1i1p1f1/Amon/hurs/gr/v20210505/hurs_Amon_GISS-E3-G_historical_r1i1p1f1_gr_201409-201409.nc\n"
     ]
    },
    {
     "name": "stderr",
     "output_type": "stream",
     "text": [
      "<ipython-input-3-86f386562649>:125: UserWarning: Tight layout not applied. tight_layout cannot make axes height small enough to accommodate all axes decorations\n",
      "  fig.tight_layout(pad=6)\n"
     ]
    },
    {
     "name": "stdout",
     "output_type": "stream",
     "text": [
      "/Users/afridlin/data/CMIP6/CMIP/NASA-GISS/GISS-E3-G-2014/historical/r1i1p1f1/Amon/rsdt/gr/v20210505/rsdt_Amon_GISS-E3-G_historical_r1i1p1f1_gr_201409-201409.nc\n",
      "/Users/afridlin/data/CMIP6/CMIP/NASA-GISS/GISS-E3-G-2014/historical/r1i1p1f1/Amon/rsdt/gr/v20210505/rsdt_Amon_GISS-E3-G_historical_r1i1p1f1_gr_201409-201409.nc\n"
     ]
    },
    {
     "name": "stderr",
     "output_type": "stream",
     "text": [
      "<ipython-input-3-86f386562649>:125: UserWarning: Tight layout not applied. tight_layout cannot make axes height small enough to accommodate all axes decorations\n",
      "  fig.tight_layout(pad=6)\n"
     ]
    },
    {
     "name": "stdout",
     "output_type": "stream",
     "text": [
      "/Users/afridlin/data/CMIP6/CMIP/NASA-GISS/GISS-E3-G-2014/historical/r1i1p1f1/Amon/hur/gr/v20210505/hur_Amon_GISS-E3-G_historical_r1i1p1f1_gr_201409-201409.nc\n",
      "/Users/afridlin/data/CMIP6/CMIP/NASA-GISS/GISS-E3-G-2014/historical/r1i1p1f1/Amon/rsds/gr/v20210505/rsds_Amon_GISS-E3-G_historical_r1i1p1f1_gr_201409-201409.nc\n",
      "/Users/afridlin/data/CMIP6/CMIP/NASA-GISS/GISS-E3-G-2014/historical/r1i1p1f1/Amon/rsds/gr/v20210505/rsds_Amon_GISS-E3-G_historical_r1i1p1f1_gr_201409-201409.nc\n"
     ]
    },
    {
     "name": "stderr",
     "output_type": "stream",
     "text": [
      "<ipython-input-3-86f386562649>:125: UserWarning: Tight layout not applied. tight_layout cannot make axes height small enough to accommodate all axes decorations\n",
      "  fig.tight_layout(pad=6)\n"
     ]
    },
    {
     "name": "stdout",
     "output_type": "stream",
     "text": [
      "/Users/afridlin/data/CMIP6/CMIP/NASA-GISS/GISS-E3-G-2014/historical/r1i1p1f1/Amon/vas/gr/v20210505/vas_Amon_GISS-E3-G_historical_r1i1p1f1_gr_201409-201409.nc\n",
      "/Users/afridlin/data/CMIP6/CMIP/NASA-GISS/GISS-E3-G-2014/historical/r1i1p1f1/Amon/vas/gr/v20210505/vas_Amon_GISS-E3-G_historical_r1i1p1f1_gr_201409-201409.nc\n"
     ]
    },
    {
     "name": "stderr",
     "output_type": "stream",
     "text": [
      "<ipython-input-3-86f386562649>:125: UserWarning: Tight layout not applied. tight_layout cannot make axes height small enough to accommodate all axes decorations\n",
      "  fig.tight_layout(pad=6)\n"
     ]
    },
    {
     "name": "stdout",
     "output_type": "stream",
     "text": [
      "/Users/afridlin/data/CMIP6/CMIP/NASA-GISS/GISS-E3-G-2014/historical/r1i1p1f1/Amon/pr/gr/v20210505/pr_Amon_GISS-E3-G_historical_r1i1p1f1_gr_201409-201409.nc\n",
      "/Users/afridlin/data/CMIP6/CMIP/NASA-GISS/GISS-E3-G-2014/historical/r1i1p1f1/Amon/pr/gr/v20210505/pr_Amon_GISS-E3-G_historical_r1i1p1f1_gr_201409-201409.nc\n"
     ]
    },
    {
     "name": "stderr",
     "output_type": "stream",
     "text": [
      "<ipython-input-3-86f386562649>:125: UserWarning: Tight layout not applied. tight_layout cannot make axes height small enough to accommodate all axes decorations\n",
      "  fig.tight_layout(pad=6)\n"
     ]
    },
    {
     "name": "stdout",
     "output_type": "stream",
     "text": [
      "/Users/afridlin/data/CMIP6/CMIP/NASA-GISS/GISS-E3-G-2014/historical/r1i1p1f1/Amon/zg/gr/v20210505/zg_Amon_GISS-E3-G_historical_r1i1p1f1_gr_201409-201409.nc\n",
      "/Users/afridlin/data/CMIP6/CMIP/NASA-GISS/GISS-E3-G-2014/historical/r1i1p1f1/Amon/huss/gr/v20210505/huss_Amon_GISS-E3-G_historical_r1i1p1f1_gr_201409-201409.nc\n",
      "/Users/afridlin/data/CMIP6/CMIP/NASA-GISS/GISS-E3-G-2014/historical/r1i1p1f1/Amon/huss/gr/v20210505/huss_Amon_GISS-E3-G_historical_r1i1p1f1_gr_201409-201409.nc\n"
     ]
    },
    {
     "name": "stderr",
     "output_type": "stream",
     "text": [
      "<ipython-input-3-86f386562649>:125: UserWarning: Tight layout not applied. tight_layout cannot make axes height small enough to accommodate all axes decorations\n",
      "  fig.tight_layout(pad=6)\n"
     ]
    },
    {
     "name": "stdout",
     "output_type": "stream",
     "text": [
      "/Users/afridlin/data/CMIP6/CMIP/NASA-GISS/GISS-E3-G-2014/historical/r1i1p1f1/Amon/rldscs/gr/v20210505/rldscs_Amon_GISS-E3-G_historical_r1i1p1f1_gr_201409-201409.nc\n",
      "/Users/afridlin/data/CMIP6/CMIP/NASA-GISS/GISS-E3-G-2014/historical/r1i1p1f1/Amon/rldscs/gr/v20210505/rldscs_Amon_GISS-E3-G_historical_r1i1p1f1_gr_201409-201409.nc\n"
     ]
    },
    {
     "name": "stderr",
     "output_type": "stream",
     "text": [
      "<ipython-input-3-86f386562649>:125: UserWarning: Tight layout not applied. tight_layout cannot make axes height small enough to accommodate all axes decorations\n",
      "  fig.tight_layout(pad=6)\n"
     ]
    },
    {
     "name": "stdout",
     "output_type": "stream",
     "text": [
      "/Users/afridlin/data/CMIP6/CMIP/NASA-GISS/GISS-E3-G-2014/historical/r1i1p1f1/Amon/ps/gr/v20210505/ps_Amon_GISS-E3-G_historical_r1i1p1f1_gr_201409-201409.nc\n",
      "/Users/afridlin/data/CMIP6/CMIP/NASA-GISS/GISS-E3-G-2014/historical/r1i1p1f1/Amon/ps/gr/v20210505/ps_Amon_GISS-E3-G_historical_r1i1p1f1_gr_201409-201409.nc\n"
     ]
    },
    {
     "name": "stderr",
     "output_type": "stream",
     "text": [
      "<ipython-input-3-86f386562649>:125: UserWarning: Tight layout not applied. tight_layout cannot make axes height small enough to accommodate all axes decorations\n",
      "  fig.tight_layout(pad=6)\n"
     ]
    },
    {
     "name": "stdout",
     "output_type": "stream",
     "text": [
      "/Users/afridlin/data/CMIP6/CMIP/NASA-GISS/GISS-E3-G-2014/historical/r1i1p1f1/Amon/tasmax/gr/v20210505/tasmax_Amon_GISS-E3-G_historical_r1i1p1f1_gr_201409-201409.nc\n",
      "/Users/afridlin/data/CMIP6/CMIP/NASA-GISS/GISS-E3-G-2014/historical/r1i1p1f1/Amon/tasmax/gr/v20210505/tasmax_Amon_GISS-E3-G_historical_r1i1p1f1_gr_201409-201409.nc\n"
     ]
    },
    {
     "name": "stderr",
     "output_type": "stream",
     "text": [
      "<ipython-input-3-86f386562649>:125: UserWarning: Tight layout not applied. tight_layout cannot make axes height small enough to accommodate all axes decorations\n",
      "  fig.tight_layout(pad=6)\n"
     ]
    },
    {
     "name": "stdout",
     "output_type": "stream",
     "text": [
      "/Users/afridlin/data/CMIP6/CMIP/NASA-GISS/GISS-E3-G-2014/historical/r1i1p1f1/Amon/rsutcs/gr/v20210505/rsutcs_Amon_GISS-E3-G_historical_r1i1p1f1_gr_201409-201409.nc\n",
      "/Users/afridlin/data/CMIP6/CMIP/NASA-GISS/GISS-E3-G-2014/historical/r1i1p1f1/Amon/rsutcs/gr/v20210505/rsutcs_Amon_GISS-E3-G_historical_r1i1p1f1_gr_201409-201409.nc\n"
     ]
    },
    {
     "name": "stderr",
     "output_type": "stream",
     "text": [
      "<ipython-input-3-86f386562649>:125: UserWarning: Tight layout not applied. tight_layout cannot make axes height small enough to accommodate all axes decorations\n",
      "  fig.tight_layout(pad=6)\n"
     ]
    },
    {
     "name": "stdout",
     "output_type": "stream",
     "text": [
      "/Users/afridlin/data/CMIP6/CMIP/NASA-GISS/GISS-E3-G-2014/historical/r1i1p1f1/Amon/tauu/gr/v20210505/tauu_Amon_GISS-E3-G_historical_r1i1p1f1_gr_201409-201409.nc\n",
      "/Users/afridlin/data/CMIP6/CMIP/NASA-GISS/GISS-E3-G-2014/historical/r1i1p1f1/Amon/tauu/gr/v20210505/tauu_Amon_GISS-E3-G_historical_r1i1p1f1_gr_201409-201409.nc\n"
     ]
    },
    {
     "name": "stderr",
     "output_type": "stream",
     "text": [
      "<ipython-input-3-86f386562649>:125: UserWarning: Tight layout not applied. tight_layout cannot make axes height small enough to accommodate all axes decorations\n",
      "  fig.tight_layout(pad=6)\n"
     ]
    },
    {
     "name": "stdout",
     "output_type": "stream",
     "text": [
      "/Users/afridlin/data/CMIP6/CMIP/NASA-GISS/GISS-E3-G-2014/historical/r1i1p1f1/Amon/prw/gr/v20210505/prw_Amon_GISS-E3-G_historical_r1i1p1f1_gr_201409-201409.nc\n",
      "/Users/afridlin/data/CMIP6/CMIP/NASA-GISS/GISS-E3-G-2014/historical/r1i1p1f1/Amon/prw/gr/v20210505/prw_Amon_GISS-E3-G_historical_r1i1p1f1_gr_201409-201409.nc\n"
     ]
    },
    {
     "name": "stderr",
     "output_type": "stream",
     "text": [
      "<ipython-input-3-86f386562649>:125: UserWarning: Tight layout not applied. tight_layout cannot make axes height small enough to accommodate all axes decorations\n",
      "  fig.tight_layout(pad=6)\n"
     ]
    },
    {
     "name": "stdout",
     "output_type": "stream",
     "text": [
      "/Users/afridlin/data/CMIP6/CMIP/NASA-GISS/GISS-E3-G-2014/historical/r1i1p1f1/Amon/mc/gr/v20210505/mc_Amon_GISS-E3-G_historical_r1i1p1f1_gr_201409-201409.nc\n",
      "/Users/afridlin/data/CMIP6/CMIP/NASA-GISS/GISS-E3-G-2014/historical/r1i1p1f1/Amon/evspsbl/gr/v20210505/evspsbl_Amon_GISS-E3-G_historical_r1i1p1f1_gr_201409-201409.nc\n",
      "/Users/afridlin/data/CMIP6/CMIP/NASA-GISS/GISS-E3-G-2014/historical/r1i1p1f1/Amon/evspsbl/gr/v20210505/evspsbl_Amon_GISS-E3-G_historical_r1i1p1f1_gr_201409-201409.nc\n"
     ]
    },
    {
     "name": "stderr",
     "output_type": "stream",
     "text": [
      "<ipython-input-3-86f386562649>:125: UserWarning: Tight layout not applied. tight_layout cannot make axes height small enough to accommodate all axes decorations\n",
      "  fig.tight_layout(pad=6)\n"
     ]
    },
    {
     "name": "stdout",
     "output_type": "stream",
     "text": [
      "/Users/afridlin/data/CMIP6/CMIP/NASA-GISS/GISS-E3-G-2014/historical/r1i1p1f1/Amon/cl/gr/v20210505/cl_Amon_GISS-E3-G_historical_r1i1p1f1_gr_201409-201409.nc\n",
      "/Users/afridlin/data/CMIP6/CMIP/NASA-GISS/GISS-E3-G-2014/historical/r1i1p1f1/Amon/ts/gr/v20210505/ts_Amon_GISS-E3-G_historical_r1i1p1f1_gr_201409-201409.nc\n",
      "/Users/afridlin/data/CMIP6/CMIP/NASA-GISS/GISS-E3-G-2014/historical/r1i1p1f1/Amon/ts/gr/v20210505/ts_Amon_GISS-E3-G_historical_r1i1p1f1_gr_201409-201409.nc\n"
     ]
    },
    {
     "name": "stderr",
     "output_type": "stream",
     "text": [
      "<ipython-input-3-86f386562649>:125: UserWarning: Tight layout not applied. tight_layout cannot make axes height small enough to accommodate all axes decorations\n",
      "  fig.tight_layout(pad=6)\n"
     ]
    },
    {
     "name": "stdout",
     "output_type": "stream",
     "text": [
      "/Users/afridlin/data/CMIP6/CMIP/NASA-GISS/GISS-E3-G-2014/historical/r1i1p1f1/Amon/ta/gr/v20210505/ta_Amon_GISS-E3-G_historical_r1i1p1f1_gr_201409-201409.nc\n",
      "/Users/afridlin/data/CMIP6/CMIP/NASA-GISS/GISS-E3-G-2014/historical/r1i1p1f1/Amon/tas/gr/v20210505/tas_Amon_GISS-E3-G_historical_r1i1p1f1_gr_201409-201409.nc\n",
      "/Users/afridlin/data/CMIP6/CMIP/NASA-GISS/GISS-E3-G-2014/historical/r1i1p1f1/Amon/tas/gr/v20210505/tas_Amon_GISS-E3-G_historical_r1i1p1f1_gr_201409-201409.nc\n"
     ]
    },
    {
     "name": "stderr",
     "output_type": "stream",
     "text": [
      "<ipython-input-3-86f386562649>:125: UserWarning: Tight layout not applied. tight_layout cannot make axes height small enough to accommodate all axes decorations\n",
      "  fig.tight_layout(pad=6)\n"
     ]
    },
    {
     "name": "stdout",
     "output_type": "stream",
     "text": [
      "/Users/afridlin/data/CMIP6/CMIP/NASA-GISS/GISS-E3-G-2014/historical/r1i1p1f1/Amon/rsuscs/gr/v20210505/rsuscs_Amon_GISS-E3-G_historical_r1i1p1f1_gr_201409-201409.nc\n",
      "/Users/afridlin/data/CMIP6/CMIP/NASA-GISS/GISS-E3-G-2014/historical/r1i1p1f1/Amon/rsuscs/gr/v20210505/rsuscs_Amon_GISS-E3-G_historical_r1i1p1f1_gr_201409-201409.nc\n"
     ]
    },
    {
     "name": "stderr",
     "output_type": "stream",
     "text": [
      "<ipython-input-3-86f386562649>:125: UserWarning: Tight layout not applied. tight_layout cannot make axes height small enough to accommodate all axes decorations\n",
      "  fig.tight_layout(pad=6)\n"
     ]
    },
    {
     "name": "stdout",
     "output_type": "stream",
     "text": [
      "/Users/afridlin/data/CMIP6/CMIP/NASA-GISS/GISS-E3-G-2014/historical/r1i1p1f1/Amon/tasmin/gr/v20210505/tasmin_Amon_GISS-E3-G_historical_r1i1p1f1_gr_201409-201409.nc\n",
      "/Users/afridlin/data/CMIP6/CMIP/NASA-GISS/GISS-E3-G-2014/historical/r1i1p1f1/Amon/tasmin/gr/v20210505/tasmin_Amon_GISS-E3-G_historical_r1i1p1f1_gr_201409-201409.nc\n"
     ]
    },
    {
     "name": "stderr",
     "output_type": "stream",
     "text": [
      "<ipython-input-3-86f386562649>:125: UserWarning: Tight layout not applied. tight_layout cannot make axes height small enough to accommodate all axes decorations\n",
      "  fig.tight_layout(pad=6)\n"
     ]
    },
    {
     "name": "stdout",
     "output_type": "stream",
     "text": [
      "/Users/afridlin/data/CMIP6/CMIP/NASA-GISS/GISS-E3-G-2014/historical/r1i1p1f1/Ofx/areacello/gn/v20210505/areacello_Ofx_GISS-E3-G_historical_r1i1p1f1_gn.nc\n",
      "/Users/afridlin/data/CMIP6/CMIP/NASA-GISS/GISS-E3-G-2014/historical/r1i1p1f1/Ofx/areacello/gn/v20210505/areacello_Ofx_GISS-E3-G_historical_r1i1p1f1_gn.nc\n"
     ]
    },
    {
     "name": "stderr",
     "output_type": "stream",
     "text": [
      "<ipython-input-3-86f386562649>:75: UserWarning: Tight layout not applied. tight_layout cannot make axes height small enough to accommodate all axes decorations\n",
      "  fig.tight_layout(pad=6)\n"
     ]
    },
    {
     "name": "stdout",
     "output_type": "stream",
     "text": [
      "/Users/afridlin/data/CMIP6/CMIP/NASA-GISS/GISS-E3-G-2014/historical/r1i1p1f1/Ofx/deptho/gn/v20210505/deptho_Ofx_GISS-E3-G_historical_r1i1p1f1_gn.nc\n",
      "/Users/afridlin/data/CMIP6/CMIP/NASA-GISS/GISS-E3-G-2014/historical/r1i1p1f1/Ofx/deptho/gn/v20210505/deptho_Ofx_GISS-E3-G_historical_r1i1p1f1_gn.nc\n"
     ]
    },
    {
     "name": "stderr",
     "output_type": "stream",
     "text": [
      "<ipython-input-3-86f386562649>:75: UserWarning: Tight layout not applied. tight_layout cannot make axes height small enough to accommodate all axes decorations\n",
      "  fig.tight_layout(pad=6)\n"
     ]
    },
    {
     "name": "stdout",
     "output_type": "stream",
     "text": [
      "/Users/afridlin/data/CMIP6/CMIP/NASA-GISS/GISS-E3-G-2014/historical/r1i1p1f1/Ofx/sftof/gn/v20210505/sftof_Ofx_GISS-E3-G_historical_r1i1p1f1_gn.nc\n",
      "/Users/afridlin/data/CMIP6/CMIP/NASA-GISS/GISS-E3-G-2014/historical/r1i1p1f1/Ofx/sftof/gn/v20210505/sftof_Ofx_GISS-E3-G_historical_r1i1p1f1_gn.nc\n"
     ]
    },
    {
     "name": "stderr",
     "output_type": "stream",
     "text": [
      "<ipython-input-3-86f386562649>:75: UserWarning: Tight layout not applied. tight_layout cannot make axes height small enough to accommodate all axes decorations\n",
      "  fig.tight_layout(pad=6)\n"
     ]
    },
    {
     "name": "stdout",
     "output_type": "stream",
     "text": [
      "/Users/afridlin/data/CMIP6/CMIP/NASA-GISS/GISS-E3-G-2014/historical/r1i1p1f1/AERmon/h2o/gr/v20210505/h2o_AERmon_GISS-E3-G_historical_r1i1p1f1_gr_201409-201409.nc\n"
     ]
    },
    {
     "name": "stderr",
     "output_type": "stream",
     "text": [
      "/Applications/anaconda3/envs/cmip6_plot_check/lib/python3.9/site-packages/numpy/core/fromnumeric.py:87: RuntimeWarning: overflow encountered in reduce\n",
      "  return ufunc.reduce(obj, axis, dtype, out, **passkwargs)\n",
      "/Applications/anaconda3/envs/cmip6_plot_check/lib/python3.9/site-packages/numpy/core/fromnumeric.py:87: RuntimeWarning: overflow encountered in reduce\n",
      "  return ufunc.reduce(obj, axis, dtype, out, **passkwargs)\n"
     ]
    },
    {
     "name": "stdout",
     "output_type": "stream",
     "text": [
      "/Users/afridlin/data/CMIP6/CMIP/NASA-GISS/GISS-E3-G-2014/historical/r1i1p1f1/AERmon/va/gr/v20210505/va_AERmon_GISS-E3-G_historical_r1i1p1f1_gr_201409-201409.nc\n",
      "/Users/afridlin/data/CMIP6/CMIP/NASA-GISS/GISS-E3-G-2014/historical/r1i1p1f1/AERmon/ua/gr/v20210505/ua_AERmon_GISS-E3-G_historical_r1i1p1f1_gr_201409-201409.nc\n",
      "/Users/afridlin/data/CMIP6/CMIP/NASA-GISS/GISS-E3-G-2014/historical/r1i1p1f1/AERmon/ptp/gr/v20210505/ptp_AERmon_GISS-E3-G_historical_r1i1p1f1_gr_201409-201409.nc\n",
      "/Users/afridlin/data/CMIP6/CMIP/NASA-GISS/GISS-E3-G-2014/historical/r1i1p1f1/AERmon/ptp/gr/v20210505/ptp_AERmon_GISS-E3-G_historical_r1i1p1f1_gr_201409-201409.nc\n"
     ]
    },
    {
     "name": "stderr",
     "output_type": "stream",
     "text": [
      "<ipython-input-3-86f386562649>:125: UserWarning: Tight layout not applied. tight_layout cannot make axes height small enough to accommodate all axes decorations\n",
      "  fig.tight_layout(pad=6)\n"
     ]
    },
    {
     "name": "stdout",
     "output_type": "stream",
     "text": [
      "/Users/afridlin/data/CMIP6/CMIP/NASA-GISS/GISS-E3-G-2014/historical/r1i1p1f1/AERmon/airmass/gr/v20210505/airmass_AERmon_GISS-E3-G_historical_r1i1p1f1_gr_201409-201409.nc\n",
      "/Users/afridlin/data/CMIP6/CMIP/NASA-GISS/GISS-E3-G-2014/historical/r1i1p1f1/AERmon/zg/gr/v20210505/zg_AERmon_GISS-E3-G_historical_r1i1p1f1_gr_201409-201409.nc\n",
      "/Users/afridlin/data/CMIP6/CMIP/NASA-GISS/GISS-E3-G-2014/historical/r1i1p1f1/AERmon/ps/gr/v20210505/ps_AERmon_GISS-E3-G_historical_r1i1p1f1_gr_201409-201409.nc\n",
      "/Users/afridlin/data/CMIP6/CMIP/NASA-GISS/GISS-E3-G-2014/historical/r1i1p1f1/AERmon/ps/gr/v20210505/ps_AERmon_GISS-E3-G_historical_r1i1p1f1_gr_201409-201409.nc\n"
     ]
    },
    {
     "name": "stderr",
     "output_type": "stream",
     "text": [
      "<ipython-input-3-86f386562649>:125: UserWarning: Tight layout not applied. tight_layout cannot make axes height small enough to accommodate all axes decorations\n",
      "  fig.tight_layout(pad=6)\n"
     ]
    },
    {
     "name": "stdout",
     "output_type": "stream",
     "text": [
      "/Users/afridlin/data/CMIP6/CMIP/NASA-GISS/GISS-E3-G-2014/historical/r1i1p1f1/AERmon/ttop/gr/v20210505/ttop_AERmon_GISS-E3-G_historical_r1i1p1f1_gr_201409-201409.nc\n",
      "/Users/afridlin/data/CMIP6/CMIP/NASA-GISS/GISS-E3-G-2014/historical/r1i1p1f1/AERmon/ttop/gr/v20210505/ttop_AERmon_GISS-E3-G_historical_r1i1p1f1_gr_201409-201409.nc\n"
     ]
    },
    {
     "name": "stderr",
     "output_type": "stream",
     "text": [
      "<ipython-input-3-86f386562649>:125: UserWarning: Tight layout not applied. tight_layout cannot make axes height small enough to accommodate all axes decorations\n",
      "  fig.tight_layout(pad=6)\n"
     ]
    },
    {
     "name": "stdout",
     "output_type": "stream",
     "text": [
      "/Users/afridlin/data/CMIP6/CMIP/NASA-GISS/GISS-E3-G-2014/historical/r1i1p1f1/AERmon/bldep/gr/v20210505/bldep_AERmon_GISS-E3-G_historical_r1i1p1f1_gr_201409-201409.nc\n",
      "/Users/afridlin/data/CMIP6/CMIP/NASA-GISS/GISS-E3-G-2014/historical/r1i1p1f1/AERmon/bldep/gr/v20210505/bldep_AERmon_GISS-E3-G_historical_r1i1p1f1_gr_201409-201409.nc\n"
     ]
    },
    {
     "name": "stderr",
     "output_type": "stream",
     "text": [
      "<ipython-input-3-86f386562649>:125: UserWarning: Tight layout not applied. tight_layout cannot make axes height small enough to accommodate all axes decorations\n",
      "  fig.tight_layout(pad=6)\n"
     ]
    },
    {
     "name": "stdout",
     "output_type": "stream",
     "text": [
      "/Users/afridlin/data/CMIP6/CMIP/NASA-GISS/GISS-E3-G-2014/historical/r1i1p1f1/AERmon/pfull/gr/v20210505/pfull_AERmon_GISS-E3-G_historical_r1i1p1f1_gr_201409-201409.nc\n",
      "/Users/afridlin/data/CMIP6/CMIP/NASA-GISS/GISS-E3-G-2014/historical/r1i1p1f1/AERmon/tatp/gr/v20210505/tatp_AERmon_GISS-E3-G_historical_r1i1p1f1_gr_201409-201409.nc\n",
      "/Users/afridlin/data/CMIP6/CMIP/NASA-GISS/GISS-E3-G-2014/historical/r1i1p1f1/AERmon/tatp/gr/v20210505/tatp_AERmon_GISS-E3-G_historical_r1i1p1f1_gr_201409-201409.nc\n"
     ]
    },
    {
     "name": "stderr",
     "output_type": "stream",
     "text": [
      "<ipython-input-3-86f386562649>:125: UserWarning: Tight layout not applied. tight_layout cannot make axes height small enough to accommodate all axes decorations\n",
      "  fig.tight_layout(pad=6)\n"
     ]
    },
    {
     "name": "stdout",
     "output_type": "stream",
     "text": [
      "/Users/afridlin/data/CMIP6/CMIP/NASA-GISS/GISS-E3-G-2014/historical/r1i1p1f1/AERmon/phalf/gr/v20210505/phalf_AERmon_GISS-E3-G_historical_r1i1p1f1_gr_201409-201409.nc\n",
      "/Users/afridlin/data/CMIP6/CMIP/NASA-GISS/GISS-E3-G-2014/historical/r1i1p1f1/SImon/siconca/gr/v20210505/siconca_SImon_GISS-E3-G_historical_r1i1p1f1_gr_201409-201409.nc\n",
      "/Users/afridlin/data/CMIP6/CMIP/NASA-GISS/GISS-E3-G-2014/historical/r1i1p1f1/SImon/siconca/gr/v20210505/siconca_SImon_GISS-E3-G_historical_r1i1p1f1_gr_201409-201409.nc\n"
     ]
    },
    {
     "name": "stderr",
     "output_type": "stream",
     "text": [
      "<ipython-input-3-86f386562649>:125: UserWarning: Tight layout not applied. tight_layout cannot make axes height small enough to accommodate all axes decorations\n",
      "  fig.tight_layout(pad=6)\n"
     ]
    },
    {
     "name": "stdout",
     "output_type": "stream",
     "text": [
      "/Users/afridlin/data/CMIP6/CMIP/NASA-GISS/GISS-E3-G-2014/historical/r1i1p1f1/SImon/sisnmass/gr/v20210505/sisnmass_SImon_GISS-E3-G_historical_r1i1p1f1_gr_201409-201409.nc\n",
      "/Users/afridlin/data/CMIP6/CMIP/NASA-GISS/GISS-E3-G-2014/historical/r1i1p1f1/SImon/sisnmass/gr/v20210505/sisnmass_SImon_GISS-E3-G_historical_r1i1p1f1_gr_201409-201409.nc\n"
     ]
    },
    {
     "name": "stderr",
     "output_type": "stream",
     "text": [
      "<ipython-input-3-86f386562649>:125: UserWarning: Tight layout not applied. tight_layout cannot make axes height small enough to accommodate all axes decorations\n",
      "  fig.tight_layout(pad=6)\n"
     ]
    },
    {
     "name": "stdout",
     "output_type": "stream",
     "text": [
      "/Users/afridlin/data/CMIP6/CMIP/NASA-GISS/GISS-E3-G-2014/historical/r1i1p1f1/SImon/siflswdtop/gr/v20210505/siflswdtop_SImon_GISS-E3-G_historical_r1i1p1f1_gr_201409-201409.nc\n",
      "/Users/afridlin/data/CMIP6/CMIP/NASA-GISS/GISS-E3-G-2014/historical/r1i1p1f1/SImon/siflswdtop/gr/v20210505/siflswdtop_SImon_GISS-E3-G_historical_r1i1p1f1_gr_201409-201409.nc\n"
     ]
    },
    {
     "name": "stderr",
     "output_type": "stream",
     "text": [
      "<ipython-input-3-86f386562649>:125: UserWarning: Tight layout not applied. tight_layout cannot make axes height small enough to accommodate all axes decorations\n",
      "  fig.tight_layout(pad=6)\n"
     ]
    },
    {
     "name": "stdout",
     "output_type": "stream",
     "text": [
      "/Users/afridlin/data/CMIP6/CMIP/NASA-GISS/GISS-E3-G-2014/historical/r1i1p1f1/SImon/sitemptop/gr/v20210505/sitemptop_SImon_GISS-E3-G_historical_r1i1p1f1_gr_201409-201409.nc\n",
      "/Users/afridlin/data/CMIP6/CMIP/NASA-GISS/GISS-E3-G-2014/historical/r1i1p1f1/SImon/sitemptop/gr/v20210505/sitemptop_SImon_GISS-E3-G_historical_r1i1p1f1_gr_201409-201409.nc\n"
     ]
    },
    {
     "name": "stderr",
     "output_type": "stream",
     "text": [
      "<ipython-input-3-86f386562649>:125: UserWarning: Tight layout not applied. tight_layout cannot make axes height small enough to accommodate all axes decorations\n",
      "  fig.tight_layout(pad=6)\n"
     ]
    },
    {
     "name": "stdout",
     "output_type": "stream",
     "text": [
      "/Users/afridlin/data/CMIP6/CMIP/NASA-GISS/GISS-E3-G-2014/historical/r1i1p1f1/SImon/sistrxubot/gn/v20210505/sistrxubot_SImon_GISS-E3-G_historical_r1i1p1f1_gn_201409-201409.nc\n",
      "/Users/afridlin/data/CMIP6/CMIP/NASA-GISS/GISS-E3-G-2014/historical/r1i1p1f1/SImon/sistrxubot/gn/v20210505/sistrxubot_SImon_GISS-E3-G_historical_r1i1p1f1_gn_201409-201409.nc\n"
     ]
    },
    {
     "name": "stderr",
     "output_type": "stream",
     "text": [
      "<ipython-input-3-86f386562649>:125: UserWarning: Tight layout not applied. tight_layout cannot make axes height small enough to accommodate all axes decorations\n",
      "  fig.tight_layout(pad=6)\n"
     ]
    },
    {
     "name": "stdout",
     "output_type": "stream",
     "text": [
      "/Users/afridlin/data/CMIP6/CMIP/NASA-GISS/GISS-E3-G-2014/historical/r1i1p1f1/SImon/sistryubot/gn/v20210505/sistryubot_SImon_GISS-E3-G_historical_r1i1p1f1_gn_201409-201409.nc\n",
      "/Users/afridlin/data/CMIP6/CMIP/NASA-GISS/GISS-E3-G-2014/historical/r1i1p1f1/SImon/sistryubot/gn/v20210505/sistryubot_SImon_GISS-E3-G_historical_r1i1p1f1_gn_201409-201409.nc\n"
     ]
    },
    {
     "name": "stderr",
     "output_type": "stream",
     "text": [
      "<ipython-input-3-86f386562649>:125: UserWarning: Tight layout not applied. tight_layout cannot make axes height small enough to accommodate all axes decorations\n",
      "  fig.tight_layout(pad=6)\n"
     ]
    },
    {
     "name": "stdout",
     "output_type": "stream",
     "text": [
      "/Users/afridlin/data/CMIP6/CMIP/NASA-GISS/GISS-E3-G-2014/historical/r1i1p1f1/SImon/sispeed/gn/v20210505/sispeed_SImon_GISS-E3-G_historical_r1i1p1f1_gn_201409-201409.nc\n",
      "/Users/afridlin/data/CMIP6/CMIP/NASA-GISS/GISS-E3-G-2014/historical/r1i1p1f1/SImon/sispeed/gn/v20210505/sispeed_SImon_GISS-E3-G_historical_r1i1p1f1_gn_201409-201409.nc\n"
     ]
    },
    {
     "name": "stderr",
     "output_type": "stream",
     "text": [
      "<ipython-input-3-86f386562649>:125: UserWarning: Tight layout not applied. tight_layout cannot make axes height small enough to accommodate all axes decorations\n",
      "  fig.tight_layout(pad=6)\n"
     ]
    },
    {
     "name": "stdout",
     "output_type": "stream",
     "text": [
      "/Users/afridlin/data/CMIP6/CMIP/NASA-GISS/GISS-E3-G-2014/historical/r1i1p1f1/SImon/sithick/gr/v20210505/sithick_SImon_GISS-E3-G_historical_r1i1p1f1_gr_201409-201409.nc\n",
      "/Users/afridlin/data/CMIP6/CMIP/NASA-GISS/GISS-E3-G-2014/historical/r1i1p1f1/SImon/sithick/gr/v20210505/sithick_SImon_GISS-E3-G_historical_r1i1p1f1_gr_201409-201409.nc\n"
     ]
    },
    {
     "name": "stderr",
     "output_type": "stream",
     "text": [
      "<ipython-input-3-86f386562649>:125: UserWarning: Tight layout not applied. tight_layout cannot make axes height small enough to accommodate all axes decorations\n",
      "  fig.tight_layout(pad=6)\n"
     ]
    },
    {
     "name": "stdout",
     "output_type": "stream",
     "text": [
      "/Users/afridlin/data/CMIP6/CMIP/NASA-GISS/GISS-E3-G-2014/historical/r1i1p1f1/SImon/sidmassmelttop/gr/v20210505/sidmassmelttop_SImon_GISS-E3-G_historical_r1i1p1f1_gr_201409-201409.nc\n",
      "/Users/afridlin/data/CMIP6/CMIP/NASA-GISS/GISS-E3-G-2014/historical/r1i1p1f1/SImon/sidmassmelttop/gr/v20210505/sidmassmelttop_SImon_GISS-E3-G_historical_r1i1p1f1_gr_201409-201409.nc\n"
     ]
    },
    {
     "name": "stderr",
     "output_type": "stream",
     "text": [
      "<ipython-input-3-86f386562649>:125: UserWarning: Tight layout not applied. tight_layout cannot make axes height small enough to accommodate all axes decorations\n",
      "  fig.tight_layout(pad=6)\n"
     ]
    },
    {
     "name": "stdout",
     "output_type": "stream",
     "text": [
      "/Users/afridlin/data/CMIP6/CMIP/NASA-GISS/GISS-E3-G-2014/historical/r1i1p1f1/SImon/sifllwdtop/gr/v20210505/sifllwdtop_SImon_GISS-E3-G_historical_r1i1p1f1_gr_201409-201409.nc\n",
      "/Users/afridlin/data/CMIP6/CMIP/NASA-GISS/GISS-E3-G-2014/historical/r1i1p1f1/SImon/sifllwdtop/gr/v20210505/sifllwdtop_SImon_GISS-E3-G_historical_r1i1p1f1_gr_201409-201409.nc\n"
     ]
    },
    {
     "name": "stderr",
     "output_type": "stream",
     "text": [
      "<ipython-input-3-86f386562649>:125: UserWarning: Tight layout not applied. tight_layout cannot make axes height small enough to accommodate all axes decorations\n",
      "  fig.tight_layout(pad=6)\n"
     ]
    },
    {
     "name": "stdout",
     "output_type": "stream",
     "text": [
      "/Users/afridlin/data/CMIP6/CMIP/NASA-GISS/GISS-E3-G-2014/historical/r1i1p1f1/SImon/sitimefrac/gr/v20210505/sitimefrac_SImon_GISS-E3-G_historical_r1i1p1f1_gr_201409-201409.nc\n",
      "/Users/afridlin/data/CMIP6/CMIP/NASA-GISS/GISS-E3-G-2014/historical/r1i1p1f1/SImon/sitimefrac/gr/v20210505/sitimefrac_SImon_GISS-E3-G_historical_r1i1p1f1_gr_201409-201409.nc\n"
     ]
    },
    {
     "name": "stderr",
     "output_type": "stream",
     "text": [
      "<ipython-input-3-86f386562649>:125: UserWarning: Tight layout not applied. tight_layout cannot make axes height small enough to accommodate all axes decorations\n",
      "  fig.tight_layout(pad=6)\n"
     ]
    },
    {
     "name": "stdout",
     "output_type": "stream",
     "text": [
      "/Users/afridlin/data/CMIP6/CMIP/NASA-GISS/GISS-E3-G-2014/historical/r1i1p1f1/SImon/siu/gn/v20210505/siu_SImon_GISS-E3-G_historical_r1i1p1f1_gn_201409-201409.nc\n",
      "/Users/afridlin/data/CMIP6/CMIP/NASA-GISS/GISS-E3-G-2014/historical/r1i1p1f1/SImon/siu/gn/v20210505/siu_SImon_GISS-E3-G_historical_r1i1p1f1_gn_201409-201409.nc\n"
     ]
    },
    {
     "name": "stderr",
     "output_type": "stream",
     "text": [
      "<ipython-input-3-86f386562649>:125: UserWarning: Tight layout not applied. tight_layout cannot make axes height small enough to accommodate all axes decorations\n",
      "  fig.tight_layout(pad=6)\n"
     ]
    },
    {
     "name": "stdout",
     "output_type": "stream",
     "text": [
      "/Users/afridlin/data/CMIP6/CMIP/NASA-GISS/GISS-E3-G-2014/historical/r1i1p1f1/SImon/sisnconc/gr/v20210505/sisnconc_SImon_GISS-E3-G_historical_r1i1p1f1_gr_201409-201409.nc\n",
      "/Users/afridlin/data/CMIP6/CMIP/NASA-GISS/GISS-E3-G-2014/historical/r1i1p1f1/SImon/sisnconc/gr/v20210505/sisnconc_SImon_GISS-E3-G_historical_r1i1p1f1_gr_201409-201409.nc\n"
     ]
    },
    {
     "name": "stderr",
     "output_type": "stream",
     "text": [
      "<ipython-input-3-86f386562649>:125: UserWarning: Tight layout not applied. tight_layout cannot make axes height small enough to accommodate all axes decorations\n",
      "  fig.tight_layout(pad=6)\n"
     ]
    },
    {
     "name": "stdout",
     "output_type": "stream",
     "text": [
      "/Users/afridlin/data/CMIP6/CMIP/NASA-GISS/GISS-E3-G-2014/historical/r1i1p1f1/SImon/siflcondtop/gr/v20210505/siflcondtop_SImon_GISS-E3-G_historical_r1i1p1f1_gr_201409-201409.nc\n",
      "/Users/afridlin/data/CMIP6/CMIP/NASA-GISS/GISS-E3-G-2014/historical/r1i1p1f1/SImon/siflcondtop/gr/v20210505/siflcondtop_SImon_GISS-E3-G_historical_r1i1p1f1_gr_201409-201409.nc\n"
     ]
    },
    {
     "name": "stderr",
     "output_type": "stream",
     "text": [
      "<ipython-input-3-86f386562649>:125: UserWarning: Tight layout not applied. tight_layout cannot make axes height small enough to accommodate all axes decorations\n",
      "  fig.tight_layout(pad=6)\n"
     ]
    },
    {
     "name": "stdout",
     "output_type": "stream",
     "text": [
      "/Users/afridlin/data/CMIP6/CMIP/NASA-GISS/GISS-E3-G-2014/historical/r1i1p1f1/SImon/sidmasssi/gr/v20210505/sidmasssi_SImon_GISS-E3-G_historical_r1i1p1f1_gr_201409-201409.nc\n",
      "/Users/afridlin/data/CMIP6/CMIP/NASA-GISS/GISS-E3-G-2014/historical/r1i1p1f1/SImon/sidmasssi/gr/v20210505/sidmasssi_SImon_GISS-E3-G_historical_r1i1p1f1_gr_201409-201409.nc\n"
     ]
    },
    {
     "name": "stderr",
     "output_type": "stream",
     "text": [
      "<ipython-input-3-86f386562649>:125: UserWarning: Tight layout not applied. tight_layout cannot make axes height small enough to accommodate all axes decorations\n",
      "  fig.tight_layout(pad=6)\n"
     ]
    },
    {
     "name": "stdout",
     "output_type": "stream",
     "text": [
      "/Users/afridlin/data/CMIP6/CMIP/NASA-GISS/GISS-E3-G-2014/historical/r1i1p1f1/SImon/sidmassgrowthwat/gr/v20210505/sidmassgrowthwat_SImon_GISS-E3-G_historical_r1i1p1f1_gr_201409-201409.nc\n",
      "/Users/afridlin/data/CMIP6/CMIP/NASA-GISS/GISS-E3-G-2014/historical/r1i1p1f1/SImon/sidmassgrowthwat/gr/v20210505/sidmassgrowthwat_SImon_GISS-E3-G_historical_r1i1p1f1_gr_201409-201409.nc\n"
     ]
    },
    {
     "name": "stderr",
     "output_type": "stream",
     "text": [
      "<ipython-input-3-86f386562649>:125: UserWarning: Tight layout not applied. tight_layout cannot make axes height small enough to accommodate all axes decorations\n",
      "  fig.tight_layout(pad=6)\n"
     ]
    },
    {
     "name": "stdout",
     "output_type": "stream",
     "text": [
      "/Users/afridlin/data/CMIP6/CMIP/NASA-GISS/GISS-E3-G-2014/historical/r1i1p1f1/SImon/sivol/gr/v20210505/sivol_SImon_GISS-E3-G_historical_r1i1p1f1_gr_201409-201409.nc\n",
      "/Users/afridlin/data/CMIP6/CMIP/NASA-GISS/GISS-E3-G-2014/historical/r1i1p1f1/SImon/sivol/gr/v20210505/sivol_SImon_GISS-E3-G_historical_r1i1p1f1_gr_201409-201409.nc\n"
     ]
    },
    {
     "name": "stderr",
     "output_type": "stream",
     "text": [
      "<ipython-input-3-86f386562649>:125: UserWarning: Tight layout not applied. tight_layout cannot make axes height small enough to accommodate all axes decorations\n",
      "  fig.tight_layout(pad=6)\n"
     ]
    },
    {
     "name": "stdout",
     "output_type": "stream",
     "text": [
      "/Users/afridlin/data/CMIP6/CMIP/NASA-GISS/GISS-E3-G-2014/historical/r1i1p1f1/SImon/sidmasslat/gr/v20210505/sidmasslat_SImon_GISS-E3-G_historical_r1i1p1f1_gr_201409-201409.nc\n",
      "/Users/afridlin/data/CMIP6/CMIP/NASA-GISS/GISS-E3-G-2014/historical/r1i1p1f1/SImon/sidmasslat/gr/v20210505/sidmasslat_SImon_GISS-E3-G_historical_r1i1p1f1_gr_201409-201409.nc\n"
     ]
    },
    {
     "name": "stderr",
     "output_type": "stream",
     "text": [
      "<ipython-input-3-86f386562649>:125: UserWarning: Tight layout not applied. tight_layout cannot make axes height small enough to accommodate all axes decorations\n",
      "  fig.tight_layout(pad=6)\n"
     ]
    },
    {
     "name": "stdout",
     "output_type": "stream",
     "text": [
      "/Users/afridlin/data/CMIP6/CMIP/NASA-GISS/GISS-E3-G-2014/historical/r1i1p1f1/SImon/sidmassgrowthbot/gr/v20210505/sidmassgrowthbot_SImon_GISS-E3-G_historical_r1i1p1f1_gr_201409-201409.nc\n",
      "/Users/afridlin/data/CMIP6/CMIP/NASA-GISS/GISS-E3-G-2014/historical/r1i1p1f1/SImon/sidmassgrowthbot/gr/v20210505/sidmassgrowthbot_SImon_GISS-E3-G_historical_r1i1p1f1_gr_201409-201409.nc\n"
     ]
    },
    {
     "name": "stderr",
     "output_type": "stream",
     "text": [
      "<ipython-input-3-86f386562649>:125: UserWarning: Tight layout not applied. tight_layout cannot make axes height small enough to accommodate all axes decorations\n",
      "  fig.tight_layout(pad=6)\n"
     ]
    },
    {
     "name": "stdout",
     "output_type": "stream",
     "text": [
      "/Users/afridlin/data/CMIP6/CMIP/NASA-GISS/GISS-E3-G-2014/historical/r1i1p1f1/SImon/sidmassmeltbot/gr/v20210505/sidmassmeltbot_SImon_GISS-E3-G_historical_r1i1p1f1_gr_201409-201409.nc\n",
      "/Users/afridlin/data/CMIP6/CMIP/NASA-GISS/GISS-E3-G-2014/historical/r1i1p1f1/SImon/sidmassmeltbot/gr/v20210505/sidmassmeltbot_SImon_GISS-E3-G_historical_r1i1p1f1_gr_201409-201409.nc\n"
     ]
    },
    {
     "name": "stderr",
     "output_type": "stream",
     "text": [
      "<ipython-input-3-86f386562649>:125: UserWarning: Tight layout not applied. tight_layout cannot make axes height small enough to accommodate all axes decorations\n",
      "  fig.tight_layout(pad=6)\n"
     ]
    },
    {
     "name": "stdout",
     "output_type": "stream",
     "text": [
      "/Users/afridlin/data/CMIP6/CMIP/NASA-GISS/GISS-E3-G-2014/historical/r1i1p1f1/SImon/sisnthick/gr/v20210505/sisnthick_SImon_GISS-E3-G_historical_r1i1p1f1_gr_201409-201409.nc\n",
      "/Users/afridlin/data/CMIP6/CMIP/NASA-GISS/GISS-E3-G-2014/historical/r1i1p1f1/SImon/sisnthick/gr/v20210505/sisnthick_SImon_GISS-E3-G_historical_r1i1p1f1_gr_201409-201409.nc\n"
     ]
    },
    {
     "name": "stderr",
     "output_type": "stream",
     "text": [
      "<ipython-input-3-86f386562649>:125: UserWarning: Tight layout not applied. tight_layout cannot make axes height small enough to accommodate all axes decorations\n",
      "  fig.tight_layout(pad=6)\n"
     ]
    },
    {
     "name": "stdout",
     "output_type": "stream",
     "text": [
      "/Users/afridlin/data/CMIP6/CMIP/NASA-GISS/GISS-E3-G-2014/historical/r1i1p1f1/SImon/siflswutop/gr/v20210505/siflswutop_SImon_GISS-E3-G_historical_r1i1p1f1_gr_201409-201409.nc\n",
      "/Users/afridlin/data/CMIP6/CMIP/NASA-GISS/GISS-E3-G-2014/historical/r1i1p1f1/SImon/siflswutop/gr/v20210505/siflswutop_SImon_GISS-E3-G_historical_r1i1p1f1_gr_201409-201409.nc\n"
     ]
    },
    {
     "name": "stderr",
     "output_type": "stream",
     "text": [
      "<ipython-input-3-86f386562649>:125: UserWarning: Tight layout not applied. tight_layout cannot make axes height small enough to accommodate all axes decorations\n",
      "  fig.tight_layout(pad=6)\n"
     ]
    },
    {
     "name": "stdout",
     "output_type": "stream",
     "text": [
      "/Users/afridlin/data/CMIP6/CMIP/NASA-GISS/GISS-E3-G-2014/historical/r1i1p1f1/SImon/simpmass/gr/v20210505/simpmass_SImon_GISS-E3-G_historical_r1i1p1f1_gr_201409-201409.nc\n",
      "/Users/afridlin/data/CMIP6/CMIP/NASA-GISS/GISS-E3-G-2014/historical/r1i1p1f1/SImon/simpmass/gr/v20210505/simpmass_SImon_GISS-E3-G_historical_r1i1p1f1_gr_201409-201409.nc\n"
     ]
    },
    {
     "name": "stderr",
     "output_type": "stream",
     "text": [
      "<ipython-input-3-86f386562649>:125: UserWarning: Tight layout not applied. tight_layout cannot make axes height small enough to accommodate all axes decorations\n",
      "  fig.tight_layout(pad=6)\n"
     ]
    },
    {
     "name": "stdout",
     "output_type": "stream",
     "text": [
      "/Users/afridlin/data/CMIP6/CMIP/NASA-GISS/GISS-E3-G-2014/historical/r1i1p1f1/SImon/sidmassevapsubl/gr/v20210505/sidmassevapsubl_SImon_GISS-E3-G_historical_r1i1p1f1_gr_201409-201409.nc\n",
      "/Users/afridlin/data/CMIP6/CMIP/NASA-GISS/GISS-E3-G-2014/historical/r1i1p1f1/SImon/sidmassevapsubl/gr/v20210505/sidmassevapsubl_SImon_GISS-E3-G_historical_r1i1p1f1_gr_201409-201409.nc\n"
     ]
    },
    {
     "name": "stderr",
     "output_type": "stream",
     "text": [
      "<ipython-input-3-86f386562649>:125: UserWarning: Tight layout not applied. tight_layout cannot make axes height small enough to accommodate all axes decorations\n",
      "  fig.tight_layout(pad=6)\n"
     ]
    },
    {
     "name": "stdout",
     "output_type": "stream",
     "text": [
      "/Users/afridlin/data/CMIP6/CMIP/NASA-GISS/GISS-E3-G-2014/historical/r1i1p1f1/SImon/simass/gr/v20210505/simass_SImon_GISS-E3-G_historical_r1i1p1f1_gr_201409-201409.nc\n",
      "/Users/afridlin/data/CMIP6/CMIP/NASA-GISS/GISS-E3-G-2014/historical/r1i1p1f1/SImon/simass/gr/v20210505/simass_SImon_GISS-E3-G_historical_r1i1p1f1_gr_201409-201409.nc\n"
     ]
    },
    {
     "name": "stderr",
     "output_type": "stream",
     "text": [
      "<ipython-input-3-86f386562649>:125: UserWarning: Tight layout not applied. tight_layout cannot make axes height small enough to accommodate all axes decorations\n",
      "  fig.tight_layout(pad=6)\n"
     ]
    },
    {
     "name": "stdout",
     "output_type": "stream",
     "text": [
      "/Users/afridlin/data/CMIP6/CMIP/NASA-GISS/GISS-E3-G-2014/historical/r1i1p1f1/SImon/siv/gn/v20210505/siv_SImon_GISS-E3-G_historical_r1i1p1f1_gn_201409-201409.nc\n",
      "/Users/afridlin/data/CMIP6/CMIP/NASA-GISS/GISS-E3-G-2014/historical/r1i1p1f1/SImon/siv/gn/v20210505/siv_SImon_GISS-E3-G_historical_r1i1p1f1_gn_201409-201409.nc\n"
     ]
    },
    {
     "name": "stderr",
     "output_type": "stream",
     "text": [
      "<ipython-input-3-86f386562649>:125: UserWarning: Tight layout not applied. tight_layout cannot make axes height small enough to accommodate all axes decorations\n",
      "  fig.tight_layout(pad=6)\n"
     ]
    },
    {
     "name": "stdout",
     "output_type": "stream",
     "text": [
      "/Users/afridlin/data/CMIP6/CMIP/NASA-GISS/GISS-E3-G-2014/historical/r1i1p1f1/SImon/siflsenstop/gr/v20210505/siflsenstop_SImon_GISS-E3-G_historical_r1i1p1f1_gr_201409-201409.nc\n",
      "/Users/afridlin/data/CMIP6/CMIP/NASA-GISS/GISS-E3-G-2014/historical/r1i1p1f1/SImon/siflsenstop/gr/v20210505/siflsenstop_SImon_GISS-E3-G_historical_r1i1p1f1_gr_201409-201409.nc\n"
     ]
    },
    {
     "name": "stderr",
     "output_type": "stream",
     "text": [
      "<ipython-input-3-86f386562649>:125: UserWarning: Tight layout not applied. tight_layout cannot make axes height small enough to accommodate all axes decorations\n",
      "  fig.tight_layout(pad=6)\n"
     ]
    },
    {
     "name": "stdout",
     "output_type": "stream",
     "text": [
      "/Users/afridlin/data/CMIP6/CMIP/NASA-GISS/GISS-E3-G-2014/historical/r1i1p1f1/SImon/simpconc/gr/v20210505/simpconc_SImon_GISS-E3-G_historical_r1i1p1f1_gr_201409-201409.nc\n",
      "/Users/afridlin/data/CMIP6/CMIP/NASA-GISS/GISS-E3-G-2014/historical/r1i1p1f1/SImon/simpconc/gr/v20210505/simpconc_SImon_GISS-E3-G_historical_r1i1p1f1_gr_201409-201409.nc\n"
     ]
    },
    {
     "name": "stderr",
     "output_type": "stream",
     "text": [
      "<ipython-input-3-86f386562649>:125: UserWarning: Tight layout not applied. tight_layout cannot make axes height small enough to accommodate all axes decorations\n",
      "  fig.tight_layout(pad=6)\n"
     ]
    },
    {
     "name": "stdout",
     "output_type": "stream",
     "text": [
      "/Users/afridlin/data/CMIP6/CMIP/NASA-GISS/GISS-E3-G-2014/historical/r1i1p1f1/SImon/sifllwutop/gr/v20210505/sifllwutop_SImon_GISS-E3-G_historical_r1i1p1f1_gr_201409-201409.nc\n",
      "/Users/afridlin/data/CMIP6/CMIP/NASA-GISS/GISS-E3-G-2014/historical/r1i1p1f1/SImon/sifllwutop/gr/v20210505/sifllwutop_SImon_GISS-E3-G_historical_r1i1p1f1_gr_201409-201409.nc\n"
     ]
    },
    {
     "name": "stderr",
     "output_type": "stream",
     "text": [
      "<ipython-input-3-86f386562649>:125: UserWarning: Tight layout not applied. tight_layout cannot make axes height small enough to accommodate all axes decorations\n",
      "  fig.tight_layout(pad=6)\n"
     ]
    },
    {
     "name": "stdout",
     "output_type": "stream",
     "text": [
      "/Users/afridlin/data/CMIP6/CMIP/NASA-GISS/GISS-E3-G-2014/historical/r1i1p1f1/SImon/sihc/gr/v20210505/sihc_SImon_GISS-E3-G_historical_r1i1p1f1_gr_201409-201409.nc\n",
      "/Users/afridlin/data/CMIP6/CMIP/NASA-GISS/GISS-E3-G-2014/historical/r1i1p1f1/SImon/sihc/gr/v20210505/sihc_SImon_GISS-E3-G_historical_r1i1p1f1_gr_201409-201409.nc\n"
     ]
    },
    {
     "name": "stderr",
     "output_type": "stream",
     "text": [
      "<ipython-input-3-86f386562649>:125: UserWarning: Tight layout not applied. tight_layout cannot make axes height small enough to accommodate all axes decorations\n",
      "  fig.tight_layout(pad=6)\n"
     ]
    },
    {
     "name": "stdout",
     "output_type": "stream",
     "text": [
      "/Users/afridlin/data/CMIP6/CMIP/NASA-GISS/GISS-E3-G-2014/historical/r1i1p1f1/SImon/sndmasssnf/gr/v20210505/sndmasssnf_SImon_GISS-E3-G_historical_r1i1p1f1_gr_201409-201409.nc\n",
      "/Users/afridlin/data/CMIP6/CMIP/NASA-GISS/GISS-E3-G-2014/historical/r1i1p1f1/SImon/sndmasssnf/gr/v20210505/sndmasssnf_SImon_GISS-E3-G_historical_r1i1p1f1_gr_201409-201409.nc\n"
     ]
    },
    {
     "name": "stderr",
     "output_type": "stream",
     "text": [
      "<ipython-input-3-86f386562649>:125: UserWarning: Tight layout not applied. tight_layout cannot make axes height small enough to accommodate all axes decorations\n",
      "  fig.tight_layout(pad=6)\n"
     ]
    },
    {
     "name": "stdout",
     "output_type": "stream",
     "text": [
      "/Users/afridlin/data/CMIP6/CMIP/NASA-GISS/GISS-E3-G-2014/historical/r1i1p1f1/LImon/hflsIs/gr/v20210505/hflsIs_LImon_GISS-E3-G_historical_r1i1p1f1_gr_201409-201409.nc\n",
      "/Users/afridlin/data/CMIP6/CMIP/NASA-GISS/GISS-E3-G-2014/historical/r1i1p1f1/LImon/hflsIs/gr/v20210505/hflsIs_LImon_GISS-E3-G_historical_r1i1p1f1_gr_201409-201409.nc\n"
     ]
    },
    {
     "name": "stderr",
     "output_type": "stream",
     "text": [
      "<ipython-input-3-86f386562649>:125: UserWarning: Tight layout not applied. tight_layout cannot make axes height small enough to accommodate all axes decorations\n",
      "  fig.tight_layout(pad=6)\n"
     ]
    },
    {
     "name": "stdout",
     "output_type": "stream",
     "text": [
      "/Users/afridlin/data/CMIP6/CMIP/NASA-GISS/GISS-E3-G-2014/historical/r1i1p1f1/LImon/sblIs/gr/v20210505/sblIs_LImon_GISS-E3-G_historical_r1i1p1f1_gr_201409-201409.nc\n",
      "/Users/afridlin/data/CMIP6/CMIP/NASA-GISS/GISS-E3-G-2014/historical/r1i1p1f1/LImon/sblIs/gr/v20210505/sblIs_LImon_GISS-E3-G_historical_r1i1p1f1_gr_201409-201409.nc\n"
     ]
    },
    {
     "name": "stderr",
     "output_type": "stream",
     "text": [
      "<ipython-input-3-86f386562649>:125: UserWarning: Tight layout not applied. tight_layout cannot make axes height small enough to accommodate all axes decorations\n",
      "  fig.tight_layout(pad=6)\n"
     ]
    },
    {
     "name": "stdout",
     "output_type": "stream",
     "text": [
      "/Users/afridlin/data/CMIP6/CMIP/NASA-GISS/GISS-E3-G-2014/historical/r1i1p1f1/LImon/sftgif/gr/v20210505/sftgif_LImon_GISS-E3-G_historical_r1i1p1f1_gr_201409-201409.nc\n",
      "/Users/afridlin/data/CMIP6/CMIP/NASA-GISS/GISS-E3-G-2014/historical/r1i1p1f1/LImon/sftgif/gr/v20210505/sftgif_LImon_GISS-E3-G_historical_r1i1p1f1_gr_201409-201409.nc\n"
     ]
    },
    {
     "name": "stderr",
     "output_type": "stream",
     "text": [
      "<ipython-input-3-86f386562649>:125: UserWarning: Tight layout not applied. tight_layout cannot make axes height small enough to accommodate all axes decorations\n",
      "  fig.tight_layout(pad=6)\n"
     ]
    },
    {
     "name": "stdout",
     "output_type": "stream",
     "text": [
      "/Users/afridlin/data/CMIP6/CMIP/NASA-GISS/GISS-E3-G-2014/historical/r1i1p1f1/LImon/mrroIs/gr/v20210505/mrroIs_LImon_GISS-E3-G_historical_r1i1p1f1_gr_201409-201409.nc\n",
      "/Users/afridlin/data/CMIP6/CMIP/NASA-GISS/GISS-E3-G-2014/historical/r1i1p1f1/LImon/mrroIs/gr/v20210505/mrroIs_LImon_GISS-E3-G_historical_r1i1p1f1_gr_201409-201409.nc\n"
     ]
    },
    {
     "name": "stderr",
     "output_type": "stream",
     "text": [
      "<ipython-input-3-86f386562649>:125: UserWarning: Tight layout not applied. tight_layout cannot make axes height small enough to accommodate all axes decorations\n",
      "  fig.tight_layout(pad=6)\n"
     ]
    },
    {
     "name": "stdout",
     "output_type": "stream",
     "text": [
      "/Users/afridlin/data/CMIP6/CMIP/NASA-GISS/GISS-E3-G-2014/historical/r1i1p1f1/LImon/snw/gr/v20210505/snw_LImon_GISS-E3-G_historical_r1i1p1f1_gr_201409-201409.nc\n",
      "/Users/afridlin/data/CMIP6/CMIP/NASA-GISS/GISS-E3-G-2014/historical/r1i1p1f1/LImon/snw/gr/v20210505/snw_LImon_GISS-E3-G_historical_r1i1p1f1_gr_201409-201409.nc\n"
     ]
    },
    {
     "name": "stderr",
     "output_type": "stream",
     "text": [
      "<ipython-input-3-86f386562649>:125: UserWarning: Tight layout not applied. tight_layout cannot make axes height small enough to accommodate all axes decorations\n",
      "  fig.tight_layout(pad=6)\n"
     ]
    },
    {
     "name": "stdout",
     "output_type": "stream",
     "text": [
      "/Users/afridlin/data/CMIP6/CMIP/NASA-GISS/GISS-E3-G-2014/historical/r1i1p1f1/LImon/snc/gr/v20210505/snc_LImon_GISS-E3-G_historical_r1i1p1f1_gr_201409-201409.nc\n",
      "/Users/afridlin/data/CMIP6/CMIP/NASA-GISS/GISS-E3-G-2014/historical/r1i1p1f1/LImon/snc/gr/v20210505/snc_LImon_GISS-E3-G_historical_r1i1p1f1_gr_201409-201409.nc\n"
     ]
    },
    {
     "name": "stderr",
     "output_type": "stream",
     "text": [
      "<ipython-input-3-86f386562649>:125: UserWarning: Tight layout not applied. tight_layout cannot make axes height small enough to accommodate all axes decorations\n",
      "  fig.tight_layout(pad=6)\n"
     ]
    },
    {
     "name": "stdout",
     "output_type": "stream",
     "text": [
      "/Users/afridlin/data/CMIP6/CMIP/NASA-GISS/GISS-E3-G-2014/historical/r1i1p1f1/LImon/snd/gr/v20210505/snd_LImon_GISS-E3-G_historical_r1i1p1f1_gr_201409-201409.nc\n",
      "/Users/afridlin/data/CMIP6/CMIP/NASA-GISS/GISS-E3-G-2014/historical/r1i1p1f1/LImon/snd/gr/v20210505/snd_LImon_GISS-E3-G_historical_r1i1p1f1_gr_201409-201409.nc\n"
     ]
    },
    {
     "name": "stderr",
     "output_type": "stream",
     "text": [
      "<ipython-input-3-86f386562649>:125: UserWarning: Tight layout not applied. tight_layout cannot make axes height small enough to accommodate all axes decorations\n",
      "  fig.tight_layout(pad=6)\n"
     ]
    },
    {
     "name": "stdout",
     "output_type": "stream",
     "text": [
      "/Users/afridlin/data/CMIP6/CMIP/NASA-GISS/GISS-E3-G-2014/historical/r1i1p1f1/LImon/hfssIs/gr/v20210505/hfssIs_LImon_GISS-E3-G_historical_r1i1p1f1_gr_201409-201409.nc\n",
      "/Users/afridlin/data/CMIP6/CMIP/NASA-GISS/GISS-E3-G-2014/historical/r1i1p1f1/LImon/hfssIs/gr/v20210505/hfssIs_LImon_GISS-E3-G_historical_r1i1p1f1_gr_201409-201409.nc\n"
     ]
    },
    {
     "name": "stderr",
     "output_type": "stream",
     "text": [
      "<ipython-input-3-86f386562649>:125: UserWarning: Tight layout not applied. tight_layout cannot make axes height small enough to accommodate all axes decorations\n",
      "  fig.tight_layout(pad=6)\n"
     ]
    },
    {
     "name": "stdout",
     "output_type": "stream",
     "text": [
      "/Users/afridlin/data/CMIP6/CMIP/NASA-GISS/GISS-E3-G-2014/historical/r1i1p1f1/LImon/acabfIs/gr/v20210505/acabfIs_LImon_GISS-E3-G_historical_r1i1p1f1_gr_201409-201409.nc\n",
      "/Users/afridlin/data/CMIP6/CMIP/NASA-GISS/GISS-E3-G-2014/historical/r1i1p1f1/LImon/acabfIs/gr/v20210505/acabfIs_LImon_GISS-E3-G_historical_r1i1p1f1_gr_201409-201409.nc\n"
     ]
    },
    {
     "name": "stderr",
     "output_type": "stream",
     "text": [
      "<ipython-input-3-86f386562649>:125: UserWarning: Tight layout not applied. tight_layout cannot make axes height small enough to accommodate all axes decorations\n",
      "  fig.tight_layout(pad=6)\n"
     ]
    },
    {
     "name": "stdout",
     "output_type": "stream",
     "text": [
      "/Users/afridlin/data/CMIP6/CMIP/NASA-GISS/GISS-E3-G-2014/historical/r1i1p1f1/LImon/tasIs/gr/v20210505/tasIs_LImon_GISS-E3-G_historical_r1i1p1f1_gr_201409-201409.nc\n",
      "/Users/afridlin/data/CMIP6/CMIP/NASA-GISS/GISS-E3-G-2014/historical/r1i1p1f1/LImon/tasIs/gr/v20210505/tasIs_LImon_GISS-E3-G_historical_r1i1p1f1_gr_201409-201409.nc\n"
     ]
    },
    {
     "name": "stderr",
     "output_type": "stream",
     "text": [
      "<ipython-input-3-86f386562649>:125: UserWarning: Tight layout not applied. tight_layout cannot make axes height small enough to accommodate all axes decorations\n",
      "  fig.tight_layout(pad=6)\n"
     ]
    },
    {
     "name": "stdout",
     "output_type": "stream",
     "text": [
      "/Users/afridlin/data/CMIP6/CMIP/NASA-GISS/GISS-E3-G-2014/historical/r1i1p1f1/Lmon/mrro/gr/v20210505/mrro_Lmon_GISS-E3-G_historical_r1i1p1f1_gr_201409-201409.nc\n",
      "/Users/afridlin/data/CMIP6/CMIP/NASA-GISS/GISS-E3-G-2014/historical/r1i1p1f1/Lmon/mrro/gr/v20210505/mrro_Lmon_GISS-E3-G_historical_r1i1p1f1_gr_201409-201409.nc\n"
     ]
    },
    {
     "name": "stderr",
     "output_type": "stream",
     "text": [
      "<ipython-input-3-86f386562649>:125: UserWarning: Tight layout not applied. tight_layout cannot make axes height small enough to accommodate all axes decorations\n",
      "  fig.tight_layout(pad=6)\n"
     ]
    },
    {
     "name": "stdout",
     "output_type": "stream",
     "text": [
      "/Users/afridlin/data/CMIP6/CMIP/NASA-GISS/GISS-E3-G-2014/historical/r1i1p1f1/Lmon/mrros/gr/v20210505/mrros_Lmon_GISS-E3-G_historical_r1i1p1f1_gr_201409-201409.nc\n",
      "/Users/afridlin/data/CMIP6/CMIP/NASA-GISS/GISS-E3-G-2014/historical/r1i1p1f1/Lmon/mrros/gr/v20210505/mrros_Lmon_GISS-E3-G_historical_r1i1p1f1_gr_201409-201409.nc\n"
     ]
    },
    {
     "name": "stderr",
     "output_type": "stream",
     "text": [
      "<ipython-input-3-86f386562649>:125: UserWarning: Tight layout not applied. tight_layout cannot make axes height small enough to accommodate all axes decorations\n",
      "  fig.tight_layout(pad=6)\n"
     ]
    },
    {
     "name": "stdout",
     "output_type": "stream",
     "text": [
      "/Users/afridlin/data/CMIP6/CMIP/NASA-GISS/GISS-E3-G-2014/historical/r1i1p1f1/Lmon/tsl/gr/v20210505/tsl_Lmon_GISS-E3-G_historical_r1i1p1f1_gr_201409-201409.nc\n",
      "/Users/afridlin/data/CMIP6/CMIP/NASA-GISS/GISS-E3-G-2014/historical/r1i1p1f1/Lmon/baresoilFrac/gr/v20210505/baresoilFrac_Lmon_GISS-E3-G_historical_r1i1p1f1_gr_201409-201409.nc\n",
      "/Users/afridlin/data/CMIP6/CMIP/NASA-GISS/GISS-E3-G-2014/historical/r1i1p1f1/Lmon/baresoilFrac/gr/v20210505/baresoilFrac_Lmon_GISS-E3-G_historical_r1i1p1f1_gr_201409-201409.nc\n"
     ]
    },
    {
     "name": "stderr",
     "output_type": "stream",
     "text": [
      "<ipython-input-3-86f386562649>:125: UserWarning: Tight layout not applied. tight_layout cannot make axes height small enough to accommodate all axes decorations\n",
      "  fig.tight_layout(pad=6)\n"
     ]
    },
    {
     "name": "stdout",
     "output_type": "stream",
     "text": [
      "/Users/afridlin/data/CMIP6/CMIP/NASA-GISS/GISS-E3-G-2014/historical/r1i1p1f1/Lmon/rh/gr/v20210505/rh_Lmon_GISS-E3-G_historical_r1i1p1f1_gr_201409-201409.nc\n",
      "/Users/afridlin/data/CMIP6/CMIP/NASA-GISS/GISS-E3-G-2014/historical/r1i1p1f1/Lmon/rh/gr/v20210505/rh_Lmon_GISS-E3-G_historical_r1i1p1f1_gr_201409-201409.nc\n"
     ]
    },
    {
     "name": "stderr",
     "output_type": "stream",
     "text": [
      "<ipython-input-3-86f386562649>:125: UserWarning: Tight layout not applied. tight_layout cannot make axes height small enough to accommodate all axes decorations\n",
      "  fig.tight_layout(pad=6)\n"
     ]
    },
    {
     "name": "stdout",
     "output_type": "stream",
     "text": [
      "/Users/afridlin/data/CMIP6/CMIP/NASA-GISS/GISS-E3-G-2014/historical/r1i1p1f1/Lmon/ra/gr/v20210505/ra_Lmon_GISS-E3-G_historical_r1i1p1f1_gr_201409-201409.nc\n",
      "/Users/afridlin/data/CMIP6/CMIP/NASA-GISS/GISS-E3-G-2014/historical/r1i1p1f1/Lmon/ra/gr/v20210505/ra_Lmon_GISS-E3-G_historical_r1i1p1f1_gr_201409-201409.nc\n"
     ]
    },
    {
     "name": "stderr",
     "output_type": "stream",
     "text": [
      "<ipython-input-3-86f386562649>:125: UserWarning: Tight layout not applied. tight_layout cannot make axes height small enough to accommodate all axes decorations\n",
      "  fig.tight_layout(pad=6)\n"
     ]
    },
    {
     "name": "stdout",
     "output_type": "stream",
     "text": [
      "/Users/afridlin/data/CMIP6/CMIP/NASA-GISS/GISS-E3-G-2014/historical/r1i1p1f1/Lmon/evspsblveg/gr/v20210505/evspsblveg_Lmon_GISS-E3-G_historical_r1i1p1f1_gr_201409-201409.nc\n",
      "/Users/afridlin/data/CMIP6/CMIP/NASA-GISS/GISS-E3-G-2014/historical/r1i1p1f1/Lmon/evspsblveg/gr/v20210505/evspsblveg_Lmon_GISS-E3-G_historical_r1i1p1f1_gr_201409-201409.nc\n"
     ]
    },
    {
     "name": "stderr",
     "output_type": "stream",
     "text": [
      "<ipython-input-3-86f386562649>:125: UserWarning: Tight layout not applied. tight_layout cannot make axes height small enough to accommodate all axes decorations\n",
      "  fig.tight_layout(pad=6)\n"
     ]
    },
    {
     "name": "stdout",
     "output_type": "stream",
     "text": [
      "/Users/afridlin/data/CMIP6/CMIP/NASA-GISS/GISS-E3-G-2014/historical/r1i1p1f1/Lmon/gpp/gr/v20210505/gpp_Lmon_GISS-E3-G_historical_r1i1p1f1_gr_201409-201409.nc\n",
      "/Users/afridlin/data/CMIP6/CMIP/NASA-GISS/GISS-E3-G-2014/historical/r1i1p1f1/Lmon/gpp/gr/v20210505/gpp_Lmon_GISS-E3-G_historical_r1i1p1f1_gr_201409-201409.nc\n"
     ]
    },
    {
     "name": "stderr",
     "output_type": "stream",
     "text": [
      "<ipython-input-3-86f386562649>:125: UserWarning: Tight layout not applied. tight_layout cannot make axes height small enough to accommodate all axes decorations\n",
      "  fig.tight_layout(pad=6)\n"
     ]
    },
    {
     "name": "stdout",
     "output_type": "stream",
     "text": [
      "/Users/afridlin/data/CMIP6/CMIP/NASA-GISS/GISS-E3-G-2014/historical/r1i1p1f1/Lmon/lai/gr/v20210505/lai_Lmon_GISS-E3-G_historical_r1i1p1f1_gr_201409-201409.nc\n",
      "/Users/afridlin/data/CMIP6/CMIP/NASA-GISS/GISS-E3-G-2014/historical/r1i1p1f1/Lmon/lai/gr/v20210505/lai_Lmon_GISS-E3-G_historical_r1i1p1f1_gr_201409-201409.nc\n"
     ]
    },
    {
     "name": "stderr",
     "output_type": "stream",
     "text": [
      "<ipython-input-3-86f386562649>:125: UserWarning: Tight layout not applied. tight_layout cannot make axes height small enough to accommodate all axes decorations\n",
      "  fig.tight_layout(pad=6)\n"
     ]
    },
    {
     "name": "stdout",
     "output_type": "stream",
     "text": [
      "/Users/afridlin/data/CMIP6/CMIP/NASA-GISS/GISS-E3-G-2014/historical/r1i1p1f1/Lmon/mrfso/gr/v20210505/mrfso_Lmon_GISS-E3-G_historical_r1i1p1f1_gr_201409-201409.nc\n",
      "/Users/afridlin/data/CMIP6/CMIP/NASA-GISS/GISS-E3-G-2014/historical/r1i1p1f1/Lmon/mrfso/gr/v20210505/mrfso_Lmon_GISS-E3-G_historical_r1i1p1f1_gr_201409-201409.nc\n"
     ]
    },
    {
     "name": "stderr",
     "output_type": "stream",
     "text": [
      "<ipython-input-3-86f386562649>:125: UserWarning: Tight layout not applied. tight_layout cannot make axes height small enough to accommodate all axes decorations\n",
      "  fig.tight_layout(pad=6)\n"
     ]
    },
    {
     "name": "stdout",
     "output_type": "stream",
     "text": [
      "/Users/afridlin/data/CMIP6/CMIP/NASA-GISS/GISS-E3-G-2014/historical/r1i1p1f1/Lmon/prveg/gr/v20210505/prveg_Lmon_GISS-E3-G_historical_r1i1p1f1_gr_201409-201409.nc\n",
      "/Users/afridlin/data/CMIP6/CMIP/NASA-GISS/GISS-E3-G-2014/historical/r1i1p1f1/Lmon/prveg/gr/v20210505/prveg_Lmon_GISS-E3-G_historical_r1i1p1f1_gr_201409-201409.nc\n"
     ]
    },
    {
     "name": "stderr",
     "output_type": "stream",
     "text": [
      "<ipython-input-3-86f386562649>:125: UserWarning: Tight layout not applied. tight_layout cannot make axes height small enough to accommodate all axes decorations\n",
      "  fig.tight_layout(pad=6)\n"
     ]
    },
    {
     "name": "stdout",
     "output_type": "stream",
     "text": [
      "/Users/afridlin/data/CMIP6/CMIP/NASA-GISS/GISS-E3-G-2014/historical/r1i1p1f1/Lmon/tran/gr/v20210505/tran_Lmon_GISS-E3-G_historical_r1i1p1f1_gr_201409-201409.nc\n",
      "/Users/afridlin/data/CMIP6/CMIP/NASA-GISS/GISS-E3-G-2014/historical/r1i1p1f1/Lmon/tran/gr/v20210505/tran_Lmon_GISS-E3-G_historical_r1i1p1f1_gr_201409-201409.nc\n"
     ]
    },
    {
     "name": "stderr",
     "output_type": "stream",
     "text": [
      "<ipython-input-3-86f386562649>:125: UserWarning: Tight layout not applied. tight_layout cannot make axes height small enough to accommodate all axes decorations\n",
      "  fig.tight_layout(pad=6)\n"
     ]
    },
    {
     "name": "stdout",
     "output_type": "stream",
     "text": [
      "/Users/afridlin/data/CMIP6/CMIP/NASA-GISS/GISS-E3-G-2014/historical/r1i1p1f1/Lmon/mrso/gr/v20210505/mrso_Lmon_GISS-E3-G_historical_r1i1p1f1_gr_201409-201409.nc\n",
      "/Users/afridlin/data/CMIP6/CMIP/NASA-GISS/GISS-E3-G-2014/historical/r1i1p1f1/Lmon/mrso/gr/v20210505/mrso_Lmon_GISS-E3-G_historical_r1i1p1f1_gr_201409-201409.nc\n"
     ]
    },
    {
     "name": "stderr",
     "output_type": "stream",
     "text": [
      "<ipython-input-3-86f386562649>:125: UserWarning: Tight layout not applied. tight_layout cannot make axes height small enough to accommodate all axes decorations\n",
      "  fig.tight_layout(pad=6)\n"
     ]
    },
    {
     "name": "stdout",
     "output_type": "stream",
     "text": [
      "/Users/afridlin/data/CMIP6/CMIP/NASA-GISS/GISS-E3-G-2014/historical/r1i1p1f1/Lmon/mrsos/gr/v20210505/mrsos_Lmon_GISS-E3-G_historical_r1i1p1f1_gr_201409-201409.nc\n",
      "/Users/afridlin/data/CMIP6/CMIP/NASA-GISS/GISS-E3-G-2014/historical/r1i1p1f1/Lmon/mrsos/gr/v20210505/mrsos_Lmon_GISS-E3-G_historical_r1i1p1f1_gr_201409-201409.nc\n"
     ]
    },
    {
     "name": "stderr",
     "output_type": "stream",
     "text": [
      "<ipython-input-3-86f386562649>:125: UserWarning: Tight layout not applied. tight_layout cannot make axes height small enough to accommodate all axes decorations\n",
      "  fig.tight_layout(pad=6)\n"
     ]
    }
   ],
   "source": [
    "# loop over source files in first model run\n",
    "\n",
    "pp = pdf('multipage.pdf')\n",
    "\n",
    "for i_1, f_1 in enumerate(ncs_1):\n",
    "    print(f_1)\n",
    "    dat_1 = xr.open_dataset(f_1)\n",
    "    var_1 = list(dat_1.data_vars.keys())[-1]\n",
    "    ndims = len(dat_1[var_1].dims)\n",
    "    if ndims!=2: dat_1 = xr.open_dataset(f_1).sel(time=tim_1) # most fields have time\n",
    "    # print(dat_1[var_1].dims)\n",
    "    if ndims==1:\n",
    "        fig = plt.figure(figsize=[8.5,11])\n",
    "        ax = fig.add_subplot(211)\n",
    "        fld_1 = dat_1[var_1].isel(time=0)\n",
    "        ax.annotate('SCALAR VALUE',xy=(0.4,0.5),xycoords='axes fraction')\n",
    "        path, fname = os.path.split(f_1)\n",
    "        parr = path.split(mod_1)\n",
    "        title = parr[0]+mod_1+'\\n'+parr[1]+'/\\n'+fname+'\\n'+fld_1.attrs['long_name']\n",
    "        plt.title(title)\n",
    "        val_str = (\"value = \"+\"{:.5e}\".format(fld_1.data))\n",
    "        ax.annotate(tim_1+' '+val_str,xy=(0,-0.15),xycoords='axes fraction')\n",
    "\n",
    "        matching_file = [i for i in ncs_2 if fname.split('_')[0]+'_'+fname.split('_')[1] in i]\n",
    "        if matching_file != []:\n",
    "            f_2 = matching_file[0]\n",
    "            print(f_2)\n",
    "            dat_2 = xr.open_dataset(f_2)\n",
    "            var_2 = list(dat_2.data_vars.keys())[-1]\n",
    "            ax = fig.add_subplot(212)\n",
    "            fld_2 = dat_2[var_2].isel(time=0)\n",
    "            ax.annotate('SCALAR VALUE',xy=(0.4,0.5),xycoords='axes fraction')\n",
    "            path, fname = os.path.split(f_2)\n",
    "            parr = path.split(mod_2)\n",
    "            title = parr[0]+mod_2+'\\n'+parr[1]+'/\\n'+fname+'\\n'+fld_2.attrs['long_name']\n",
    "            plt.title(title)\n",
    "            val_str = (\"value = \"+\"{:.5e}\".format(fld_2.data))\n",
    "            ax.annotate(tim_2+' '+val_str,xy=(0,-0.15),xycoords='axes fraction')\n",
    "            fig.tight_layout(pad=6)\n",
    "        \n",
    "        pp.savefig()        \n",
    "    elif ndims==2:\n",
    "        fig = plt.figure(figsize=[8.5,11])\n",
    "        ax = fig.add_subplot(211,projection=ccrs.PlateCarree(central_longitude=180))\n",
    "        fld_1 = dat_1[var_1]\n",
    "        fld_1.plot(ax=ax,transform=ccrs.PlateCarree(),\n",
    "                    cbar_kwargs={'label': fld_1.units},rasterized=True)\n",
    "        ax.coastlines()\n",
    "        path, fname = os.path.split(f_1)\n",
    "        parr = path.split(mod_1)\n",
    "        title = parr[0]+mod_1+'\\n'+parr[1]+'/\\n'+fname+'\\n'+fld_1.attrs['long_name']\n",
    "        plt.title(title)\n",
    "        val_str = (\"min, max, avg = \"+\"{:.5e}\".format(fld_1.min().data)+\", \"\n",
    "            \"{:.5e}\".format(fld_1.max().data)+\", \"+\"{:.5e}\".format(fld_1.mean().data))\n",
    "        ax.annotate(tim_1+' '+val_str,xy=(0,-0.25),xycoords='axes fraction')\n",
    "\n",
    "        matching_file = [i for i in ncs_2 if fname.split('_')[0]+'_'+fname.split('_')[1] in i]\n",
    "        if matching_file != []:\n",
    "            f_2 = matching_file[0]\n",
    "            print(f_2)\n",
    "            dat_2 = xr.open_dataset(f_2)\n",
    "            var_2 = list(dat_2.data_vars.keys())[-1]\n",
    "            ax = fig.add_subplot(212,projection=ccrs.PlateCarree(central_longitude=180))\n",
    "            fld_2 = dat_2[var_2]\n",
    "            fld_2.plot(ax=ax,transform=ccrs.PlateCarree(),\n",
    "                       cbar_kwargs={'label': fld_2.units},rasterized=True)\n",
    "            ax.coastlines()\n",
    "            path, fname = os.path.split(f_2)\n",
    "            parr = path.split(mod_2)\n",
    "            title = parr[0]+mod_2+'\\n'+parr[1]+'/\\n'+fname+'\\n'+fld_2.attrs['long_name']\n",
    "            plt.title(title)\n",
    "            val_str = (\"min, max, mean = \"+\"{:.5e}\".format(fld_2.min().data)+\", \"\n",
    "                \"{:.5e}\".format(fld_2.max().data)+\", \"+\"{:.5e}\".format(fld_2.mean().data))\n",
    "            ax.annotate(tim_2+' '+val_str,xy=(0,-0.25),xycoords='axes fraction')\n",
    "            fig.tight_layout(pad=6)\n",
    "            \n",
    "        pp.savefig()\n",
    "    elif ndims==3:\n",
    "        fig = plt.figure(figsize=[8.5,11])\n",
    "        if dat_1[var_1].dims[1]=='basin':\n",
    "            ax = fig.add_subplot(211)\n",
    "            fld_1 = dat_1[var_1].isel(basin=0,time=0)\n",
    "            subtit = ' (basin=0)'\n",
    "            fld_1.plot(ax=ax)\n",
    "        else:\n",
    "            ax = fig.add_subplot(211,projection=ccrs.PlateCarree(central_longitude=180))\n",
    "            fld_1 = dat_1[var_1].isel(time=0)\n",
    "            subtit = ''\n",
    "            fld_1.plot(ax=ax,transform=ccrs.PlateCarree(),\n",
    "                       cbar_kwargs={'label': fld_1.units},rasterized=True)\n",
    "            ax.coastlines()\n",
    "        path, fname = os.path.split(f_1)\n",
    "        parr = path.split(mod_1)\n",
    "        title = parr[0]+mod_1+'\\n'+parr[1]+'/\\n'+fname+'\\n'+fld_1.attrs['long_name']+subtit\n",
    "        plt.title(title)\n",
    "        val_str = (\"min, max, avg = \"+\"{:.5e}\".format(fld_1.min().data)+\", \"\n",
    "            \"{:.5e}\".format(fld_1.max().data)+\", \"+\"{:.5e}\".format(fld_1.mean().data))\n",
    "        ax.annotate(tim_1+' '+val_str,xy=(0,-0.25),xycoords='axes fraction')\n",
    "\n",
    "        matching_file = [i for i in ncs_2 if fname.split('_')[0]+'_'+fname.split('_')[1] in i]\n",
    "        if matching_file != []:\n",
    "            f_2 = matching_file[0]\n",
    "            print(f_2)\n",
    "            dat_2 = xr.open_dataset(f_2)\n",
    "            var_2 = list(dat_2.data_vars.keys())[-1]\n",
    "            if dat_2[var_2].dims[1]=='basin':\n",
    "                ax = fig.add_subplot(212)\n",
    "                fld_2 = dat_2[var_2].isel(basin=0,time=0)\n",
    "                subtit = ' (basin=0)'\n",
    "                fld_2.plot(ax=ax)\n",
    "            else:\n",
    "                ax = fig.add_subplot(212,projection=ccrs.PlateCarree(central_longitude=180))\n",
    "                fld_2 = dat_2[var_2].isel(time=0)\n",
    "                subtit = ''\n",
    "                fld_2.plot(ax=ax,transform=ccrs.PlateCarree(),\n",
    "                           cbar_kwargs={'label': fld_2.units},rasterized=True)\n",
    "                ax.coastlines()\n",
    "            path, fname = os.path.split(f_2)\n",
    "            parr = path.split(mod_2)\n",
    "            title = parr[0]+mod_2+'\\n'+parr[1]+'/\\n'+fname+'\\n'+fld_2.attrs['long_name']+subtit\n",
    "            plt.title(title)\n",
    "            val_str = (\"min, max, mean = \"+\"{:.5e}\".format(fld_2.min().data)+\", \"\n",
    "                \"{:.5e}\".format(fld_2.max().data)+\", \"+\"{:.5e}\".format(fld_2.mean().data))\n",
    "            ax.annotate(tim_2+' '+val_str,xy=(0,-0.25),xycoords='axes fraction')\n",
    "            fig.tight_layout(pad=6)\n",
    "\n",
    "        pp.savefig()\n",
    "    elif ndims==4:\n",
    "        fig = plt.figure(figsize=[8.5,11])\n",
    "        ax = fig.add_subplot(211)\n",
    "        if dat_1[var_1].dims[1]=='basin':\n",
    "            fld_1 = dat_1[var_1].isel(basin=0,time=0)\n",
    "            subtit = ' (basin=0)'\n",
    "        else:\n",
    "            fld_1 = dat_1[var_1].isel(lon=0,time=0)\n",
    "            subtit = ' (lon=0)'\n",
    "        fld_1.plot(ax=ax,cbar_kwargs={'label': fld_1.units},rasterized=True)\n",
    "        if dat_1[var_1].dims[1]==('lev') or dat_1[var_1].dims[1]==('plev'): ax.invert_yaxis()\n",
    "        if dat_1[var_1].dims[2]==('lev'): ax.invert_yaxis() # ocean basin case\n",
    "        title = fld_1.attrs['long_name'] + ' (Longitude=0)'\n",
    "        path, fname = os.path.split(f_1)\n",
    "        parr = path.split(mod_1)\n",
    "        title = parr[0]+mod_1+'\\n'+parr[1]+'/\\n'+fname+'\\n'+fld_1.attrs['long_name']+subtit\n",
    "        plt.title(title)\n",
    "        val_str = (\"min, max, mean = \"+\"{:.5e}\".format(fld_1.min().data)+\", \"\n",
    "            \"{:.5e}\".format(fld_1.max().data)+\", \"+\"{:.5e}\".format(fld_1.mean().data))\n",
    "        ax.annotate(tim_1+' '+val_str,xy=(0,-0.25),xycoords='axes fraction')\n",
    "        \n",
    "        matching_file = [i for i in ncs_2 if fname.split('_')[0]+'_'+fname.split('_')[1] in i]\n",
    "        if matching_file != []:\n",
    "            f_2 = matching_file[0]\n",
    "            # print(f_2)\n",
    "            dat_2 = xr.open_dataset(f_2)\n",
    "            var_2 = list(dat_2.data_vars.keys())[-1]\n",
    "            ax = fig.add_subplot(212)\n",
    "            if dat_2[var_2].dims[1]=='basin':\n",
    "                fld_2 = dat_2[var_2].isel(basin=0,time=0)\n",
    "                subtit = ' (basin=0)'\n",
    "            else:\n",
    "                fld_2 = dat_1[var_2].isel(lon=0,time=0)\n",
    "                subtit = ' (lon=0)'\n",
    "            fld_2.plot(ax=ax,cbar_kwargs={'label': fld_2.units},rasterized=True)\n",
    "            if dat_2[var_2].dims[1]==('lev') or dat_2[var_2].dims[1]==('plev'): ax.invert_yaxis()\n",
    "            if dat_2[var_2].dims[2]==('lev'): ax.invert_yaxis() # ocean basin case\n",
    "            path, fname = os.path.split(f_2)\n",
    "            parr = path.split(mod_2)\n",
    "            title = parr[0]+mod_2+'\\n'+parr[1]+'/\\n'+fname+'\\n'+fld_2.attrs['long_name']+subtit\n",
    "            val_str = (\"min, max, mean = \"+\"{:.5e}\".format(fld_2.min().data)+\", \"\n",
    "                \"{:.5e}\".format(fld_2.max().data)+\", \"+\"{:.5e}\".format(fld_2.mean().data))\n",
    "            ax.annotate(tim_2+' '+val_str,xy=(0,-0.25),xycoords='axes fraction')\n",
    "            plt.title(title)\n",
    "            fig.tight_layout(pad=6)\n",
    "\n",
    "        pp.savefig()\n",
    "    else: # more than 4 dimensions: also choose a latitude\n",
    "        fig = plt.figure(figsize=[8.5,11])\n",
    "        ax = fig.add_subplot(211)\n",
    "        fld_1 = dat_1[var_1].isel(lat=0,lon=0,time=0)\n",
    "        subtit = ' (Lat/Lon=0/0)'\n",
    "        fld_1.plot(ax=ax,cbar_kwargs={'label': fld_1.units},rasterized=True)\n",
    "        title = fld_1.attrs['long_name'] + subtit\n",
    "        path, fname = os.path.split(f_1)\n",
    "        parr = path.split(mod_1)\n",
    "        title = parr[0]+mod_1+'\\n'+parr[1]+'/\\n'+fname+'\\n'+fld_1.attrs['long_name']+subtit\n",
    "        plt.title(title)\n",
    "        val_str = (\"min, max, mean = \"+\"{:.5e}\".format(fld_1.min().data)+\", \"\n",
    "            \"{:.5e}\".format(fld_1.max().data)+\", \"+\"{:.5e}\".format(fld_1.mean().data))\n",
    "        ax.annotate(tim_1+' '+val_str,xy=(0,-0.25),xycoords='axes fraction')\n",
    "        \n",
    "        matching_file = [i for i in ncs_2 if fname.split('_')[0]+'_'+fname.split('_')[1] in i]\n",
    "        if matching_file != []:\n",
    "            f_2 = matching_file[0]\n",
    "            # print(f_2)\n",
    "            dat_2 = xr.open_dataset(f_2)\n",
    "            var_2 = list(dat_2.data_vars.keys())[-1]\n",
    "            ax = fig.add_subplot(212)\n",
    "            fld_2 = dat_1[var_2].isel(lat=0,lon=0,time=0)\n",
    "            subtit = ' (Lat/Lon=0/0)'\n",
    "            fld_2.plot(ax=ax,cbar_kwargs={'label': fld_2.units},rasterized=True)\n",
    "            path, fname = os.path.split(f_2)\n",
    "            parr = path.split(mod_2)\n",
    "            title = parr[0]+mod_2+'\\n'+parr[1]+'/\\n'+fname+'\\n'+fld_2.attrs['long_name']+subtit\n",
    "            val_str = (\"min, max, mean = \"+\"{:.5e}\".format(fld_2.min().data)+\", \"\n",
    "                \"{:.5e}\".format(fld_2.max().data)+\", \"+\"{:.5e}\".format(fld_2.mean().data))\n",
    "            ax.annotate(tim_2+' '+val_str,xy=(0,-0.25),xycoords='axes fraction')\n",
    "            plt.title(title)\n",
    "            fig.tight_layout(pad=6)\n",
    "\n",
    "        pp.savefig()\n",
    "        \n",
    "    # if i_1 == 0: print(stop_me)\n",
    "    plt.close()\n",
    "\n",
    "# loop over source files in second model run (plot only any missing from first run)\n",
    "\n",
    "for i_2, f_2 in enumerate(ncs_2):\n",
    "    path, fname = os.path.split(f_2)\n",
    "    matching_file = [i for i in ncs_1 if fname.split('_')[0]+'_'+fname.split('_')[1] in i]\n",
    "    if matching_file == []:\n",
    "        print(f_2)\n",
    "        dat_2 = xr.open_dataset(f_2)\n",
    "        var_2 = list(dat_2.data_vars.keys())[-1]\n",
    "        ndims = len(dat_2[var_2].dims)\n",
    "        if ndims!=2: dat_2 = xr.open_dataset(f_2).sel(time=tim_2) # usually time is a dimension\n",
    "        if ndims==1:\n",
    "            fig = plt.figure(figsize=[8.5,11])\n",
    "            ax = fig.add_subplot(212)\n",
    "            fld_2 = dat_2[var_2].isel(time=0)\n",
    "            ax.annotate('SCALAR VALUE',xy=(0.4,0.5),xycoords='axes fraction')\n",
    "            path, fname = os.path.split(f_2)\n",
    "            parr = path.split(mod_2)\n",
    "            title = parr[0]+mod_2+'\\n'+parr[1]+'/\\n'+fname+'\\n'+fld_2.attrs['long_name']\n",
    "            plt.title(title)\n",
    "            val_str = (\"value = \"+\"{:.5e}\".format(fld_2.data))\n",
    "            ax.annotate(tim_1+' '+val_str,xy=(0,-0.15),xycoords='axes fraction')\n",
    "            pp.savefig()        \n",
    "        elif ndims==2:\n",
    "            fig = plt.figure(figsize=[8.5,11])\n",
    "            ax = fig.add_subplot(212,projection=ccrs.PlateCarree(central_longitude=180))\n",
    "            fld_2 = dat_2[var_2]\n",
    "            fld_2.plot(ax=ax,transform=ccrs.PlateCarree(),\n",
    "                       cbar_kwargs={'label': fld_2.units},rasterized=True)\n",
    "            ax.coastlines()\n",
    "            path, fname = os.path.split(f_2)\n",
    "            parr = path.split(mod_2)\n",
    "            title = parr[0]+mod_2+'\\n'+parr[1]+'/\\n'+fname+'\\n'+fld_2.attrs['long_name']\n",
    "            plt.title(title)\n",
    "            val_str = (\"min, max, mean = \"+\"{:.5e}\".format(fld_2.min().data)+\", \"\n",
    "                \"{:.5e}\".format(fld_2.max().data)+\", \"+\"{:.5e}\".format(fld_2.mean().data))\n",
    "            ax.annotate(tim_2+' '+val_str,xy=(0,-0.25),xycoords='axes fraction')\n",
    "            plt.title(title)\n",
    "            pp.savefig()\n",
    "        elif ndims==3:\n",
    "            fig = plt.figure(figsize=[8.5,11])\n",
    "            if dat_2[var_2].dims[1]=='basin':\n",
    "                ax = fig.add_subplot(212)\n",
    "                fld_2 = dat_2[var_2].isel(basin=0,time=0)\n",
    "                subtit = ' (basin=0)'\n",
    "                fld_2.plot(ax=ax)\n",
    "            else:\n",
    "                ax = fig.add_subplot(212,projection=ccrs.PlateCarree(central_longitude=180))\n",
    "                fld_2 = dat_2[var_2].isel(time=0)\n",
    "                subtit = ''\n",
    "                fld_2.plot(ax=ax,transform=ccrs.PlateCarree(),\n",
    "                           cbar_kwargs={'label': fld_2.units},rasterized=True)\n",
    "                ax.coastlines()\n",
    "            path, fname = os.path.split(f_2)\n",
    "            parr = path.split(mod_2)\n",
    "            title = parr[0]+mod_2+'\\n'+parr[1]+'/\\n'+fname+'\\n'+fld_2.attrs['long_name']+subtit\n",
    "            plt.title(title)\n",
    "            val_str = (\"min, max, mean = \"+\"{:.5e}\".format(fld_2.min().data)+\", \"\n",
    "                \"{:.5e}\".format(fld_2.max().data)+\", \"+\"{:.5e}\".format(fld_2.mean().data))\n",
    "            ax.annotate(tim_2+' '+val_str,xy=(0,-0.25),xycoords='axes fraction')\n",
    "            plt.title(title)\n",
    "            pp.savefig()\n",
    "        elif ndims==4:\n",
    "            fig = plt.figure(figsize=[8.5,11])\n",
    "            ax = fig.add_subplot(212)\n",
    "            if dat_2[var_2].dims[1]=='basin':\n",
    "                fld_2 = dat_2[var_2].isel(basin=0,time=0)\n",
    "                subtit = ' (basin=0)'\n",
    "            else:\n",
    "                fld_2 = dat_2[var_2].isel(lon=0,time=0)\n",
    "                subtit = ' (lon=0)'\n",
    "            fld_2.plot(ax=ax,cbar_kwargs={'label': fld_2.units},rasterized=True)\n",
    "            if dat_2[var_2].dims[1]==('lev') or dat_2[var_2].dims[1]==('plev'): ax.invert_yaxis()\n",
    "            if dat_2[var_2].dims[2]==('lev'): ax.invert_yaxis() # ocean basin case\n",
    "            path, fname = os.path.split(f_2)\n",
    "            parr = path.split(mod_2)\n",
    "            title = parr[0]+mod_2+'\\n'+parr[1]+'/\\n'+fname+'\\n'+fld_2.attrs['long_name']+subtit\n",
    "            plt.title(title)\n",
    "            val_str = (\"min, max, mean = \"+\"{:.5e}\".format(fld_2.min().data)+\", \"\n",
    "                \"{:.5e}\".format(fld_2.max().data)+\", \"+\"{:.5e}\".format(fld_2.mean().data))\n",
    "            ax.annotate(tim_2+' '+val_str,xy=(0,-0.25),xycoords='axes fraction')\n",
    "            pp.savefig()\n",
    "        else:\n",
    "            fig = plt.figure(figsize=[8.5,11])\n",
    "            ax = fig.add_subplot(212)\n",
    "            fld_2 = dat_1[var_2].isel(lat=0,lon=0,time=0)\n",
    "            subtit = ' (Lat/Lon=0/0)'\n",
    "            fld_2.plot(ax=ax,cbar_kwargs={'label': fld_2.units},rasterized=True)\n",
    "            path, fname = os.path.split(f_2)\n",
    "            parr = path.split(mod_2)\n",
    "            title = parr[0]+mod_2+'\\n'+parr[1]+'/\\n'+fname+'\\n'+fld_2.attrs['long_name']+subtit\n",
    "            plt.title(title)\n",
    "            val_str = (\"min, max, mean = \"+\"{:.5e}\".format(fld_2.min().data)+\", \"\n",
    "                \"{:.5e}\".format(fld_2.max().data)+\", \"+\"{:.5e}\".format(fld_2.mean().data))\n",
    "            ax.annotate(tim_2+' '+val_str,xy=(0,-0.25),xycoords='axes fraction')\n",
    "            pp.savefig()\n",
    "            \n",
    "        plt.close()\n",
    "        \n",
    "pp.close()\n",
    "os.popen('mv multipage.pdf '+out_pdf)"
   ]
  },
  {
   "cell_type": "code",
   "execution_count": null,
   "id": "43452b1e",
   "metadata": {},
   "outputs": [],
   "source": []
  }
 ],
 "metadata": {
  "kernelspec": {
   "display_name": "Python 3",
   "language": "python",
   "name": "python3"
  },
  "language_info": {
   "codemirror_mode": {
    "name": "ipython",
    "version": 3
   },
   "file_extension": ".py",
   "mimetype": "text/x-python",
   "name": "python",
   "nbconvert_exporter": "python",
   "pygments_lexer": "ipython3",
   "version": "3.9.2"
  }
 },
 "nbformat": 4,
 "nbformat_minor": 5
}
